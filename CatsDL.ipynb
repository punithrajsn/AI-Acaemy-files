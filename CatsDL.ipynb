{
 "cells": [
  {
   "cell_type": "code",
   "execution_count": 5,
   "metadata": {
    "collapsed": true
   },
   "outputs": [],
   "source": [
    "import numpy as np\n",
    "import matplotlib.pyplot as plt\n",
    "import pandas as pd"
   ]
  },
  {
   "cell_type": "code",
   "execution_count": 6,
   "metadata": {
    "collapsed": true
   },
   "outputs": [],
   "source": [
    "from sklearn.model_selection import train_test_split"
   ]
  },
  {
   "cell_type": "code",
   "execution_count": 2,
   "metadata": {},
   "outputs": [
    {
     "name": "stderr",
     "output_type": "stream",
     "text": [
      "Using TensorFlow backend.\n"
     ]
    }
   ],
   "source": [
    "from keras.models import Sequential"
   ]
  },
  {
   "cell_type": "code",
   "execution_count": 1,
   "metadata": {},
   "outputs": [
    {
     "name": "stderr",
     "output_type": "stream",
     "text": [
      "C:\\ProgramData\\Anaconda3\\lib\\site-packages\\h5py\\__init__.py:34: FutureWarning: Conversion of the second argument of issubdtype from `float` to `np.floating` is deprecated. In future, it will be treated as `np.float64 == np.dtype(float).type`.\n",
      "  from ._conv import register_converters as _register_converters\n"
     ]
    }
   ],
   "source": [
    "import tensorflow"
   ]
  },
  {
   "cell_type": "code",
   "execution_count": 26,
   "metadata": {},
   "outputs": [],
   "source": [
    "from keras.layers import Dense,Activation"
   ]
  },
  {
   "cell_type": "code",
   "execution_count": 27,
   "metadata": {
    "collapsed": true
   },
   "outputs": [],
   "source": [
    "from keras import optimizers"
   ]
  },
  {
   "cell_type": "code",
   "execution_count": 15,
   "metadata": {},
   "outputs": [
    {
     "data": {
      "text/html": [
       "<div>\n",
       "<style>\n",
       "    .dataframe thead tr:only-child th {\n",
       "        text-align: right;\n",
       "    }\n",
       "\n",
       "    .dataframe thead th {\n",
       "        text-align: left;\n",
       "    }\n",
       "\n",
       "    .dataframe tbody tr th {\n",
       "        vertical-align: top;\n",
       "    }\n",
       "</style>\n",
       "<table border=\"1\" class=\"dataframe\">\n",
       "  <thead>\n",
       "    <tr style=\"text-align: right;\">\n",
       "      <th></th>\n",
       "      <th>Unnamed: 0</th>\n",
       "      <th>Sex</th>\n",
       "      <th>Bwt</th>\n",
       "      <th>Hwt</th>\n",
       "    </tr>\n",
       "  </thead>\n",
       "  <tbody>\n",
       "    <tr>\n",
       "      <th>0</th>\n",
       "      <td>1</td>\n",
       "      <td>F</td>\n",
       "      <td>2.0</td>\n",
       "      <td>7.0</td>\n",
       "    </tr>\n",
       "    <tr>\n",
       "      <th>1</th>\n",
       "      <td>2</td>\n",
       "      <td>F</td>\n",
       "      <td>2.0</td>\n",
       "      <td>7.4</td>\n",
       "    </tr>\n",
       "    <tr>\n",
       "      <th>2</th>\n",
       "      <td>3</td>\n",
       "      <td>F</td>\n",
       "      <td>2.0</td>\n",
       "      <td>9.5</td>\n",
       "    </tr>\n",
       "    <tr>\n",
       "      <th>3</th>\n",
       "      <td>4</td>\n",
       "      <td>F</td>\n",
       "      <td>2.1</td>\n",
       "      <td>7.2</td>\n",
       "    </tr>\n",
       "    <tr>\n",
       "      <th>4</th>\n",
       "      <td>5</td>\n",
       "      <td>F</td>\n",
       "      <td>2.1</td>\n",
       "      <td>7.3</td>\n",
       "    </tr>\n",
       "  </tbody>\n",
       "</table>\n",
       "</div>"
      ],
      "text/plain": [
       "   Unnamed: 0 Sex  Bwt  Hwt\n",
       "0           1   F  2.0  7.0\n",
       "1           2   F  2.0  7.4\n",
       "2           3   F  2.0  9.5\n",
       "3           4   F  2.1  7.2\n",
       "4           5   F  2.1  7.3"
      ]
     },
     "execution_count": 15,
     "metadata": {},
     "output_type": "execute_result"
    }
   ],
   "source": [
    "data = pd.read_csv(\"cats.csv\")\n",
    "data.head()"
   ]
  },
  {
   "cell_type": "code",
   "execution_count": 19,
   "metadata": {},
   "outputs": [],
   "source": [
    "np.random_seed=999\n",
    "[x_train,x_test,y_train,y_test] = train_test_split(data['Bwt'], data['Hwt'],test_size = 0.3, random_state = 999)"
   ]
  },
  {
   "cell_type": "code",
   "execution_count": 21,
   "metadata": {},
   "outputs": [
    {
     "name": "stdout",
     "output_type": "stream",
     "text": [
      "WARNING:tensorflow:From C:\\Users\\CG0001\\AppData\\Roaming\\Python\\Python36\\site-packages\\tensorflow\\python\\framework\\op_def_library.py:263: colocate_with (from tensorflow.python.framework.ops) is deprecated and will be removed in a future version.\n",
      "Instructions for updating:\n",
      "Colocations handled automatically by placer.\n"
     ]
    }
   ],
   "source": [
    "#Define the architecture\n",
    "\n",
    "model = Sequential()\n",
    "model.add(Dense(4,activation='relu',input_dim=1)) #Input layer"
   ]
  },
  {
   "cell_type": "code",
   "execution_count": 22,
   "metadata": {
    "collapsed": true
   },
   "outputs": [],
   "source": [
    "model.add(Dense(6,activation='relu')) #Hidden layer\n",
    "model.add(Dense(1,activation='linear',input_dim=1)) #Linear Regression Output layer"
   ]
  },
  {
   "cell_type": "code",
   "execution_count": 23,
   "metadata": {},
   "outputs": [
    {
     "name": "stdout",
     "output_type": "stream",
     "text": [
      "_________________________________________________________________\n",
      "Layer (type)                 Output Shape              Param #   \n",
      "=================================================================\n",
      "dense_1 (Dense)              (None, 4)                 8         \n",
      "_________________________________________________________________\n",
      "dense_2 (Dense)              (None, 6)                 30        \n",
      "_________________________________________________________________\n",
      "dense_3 (Dense)              (None, 1)                 7         \n",
      "=================================================================\n",
      "Total params: 45\n",
      "Trainable params: 45\n",
      "Non-trainable params: 0\n",
      "_________________________________________________________________\n"
     ]
    }
   ],
   "source": [
    "model.summary()"
   ]
  },
  {
   "cell_type": "code",
   "execution_count": 28,
   "metadata": {
    "collapsed": true
   },
   "outputs": [],
   "source": [
    "#compile the model\n",
    "model.compile(loss='mse',optimizer='RMSProp',metrics=['mse'])"
   ]
  },
  {
   "cell_type": "code",
   "execution_count": 46,
   "metadata": {},
   "outputs": [
    {
     "name": "stdout",
     "output_type": "stream",
     "text": [
      "Train on 100 samples, validate on 44 samples\n",
      "Epoch 1/100\n",
      "100/100 [==============================] - 0s 170us/step - loss: 2.3186 - mean_squared_error: 2.3186 - val_loss: 1.8806 - val_mean_squared_error: 1.8806\n",
      "Epoch 2/100\n",
      "100/100 [==============================] - 0s 187us/step - loss: 2.3223 - mean_squared_error: 2.3223 - val_loss: 1.8737 - val_mean_squared_error: 1.8737\n",
      "Epoch 3/100\n",
      "100/100 [==============================] - 0s 150us/step - loss: 2.3326 - mean_squared_error: 2.3326 - val_loss: 1.8770 - val_mean_squared_error: 1.8770\n",
      "Epoch 4/100\n",
      "100/100 [==============================] - 0s 170us/step - loss: 2.3267 - mean_squared_error: 2.3267 - val_loss: 1.8734 - val_mean_squared_error: 1.8734\n",
      "Epoch 5/100\n",
      "100/100 [==============================] - 0s 160us/step - loss: 2.3157 - mean_squared_error: 2.3157 - val_loss: 1.8814 - val_mean_squared_error: 1.8814\n",
      "Epoch 6/100\n",
      "100/100 [==============================] - 0s 160us/step - loss: 2.3192 - mean_squared_error: 2.3192 - val_loss: 1.8746 - val_mean_squared_error: 1.8746\n",
      "Epoch 7/100\n",
      "100/100 [==============================] - 0s 170us/step - loss: 2.3195 - mean_squared_error: 2.3195 - val_loss: 1.8765 - val_mean_squared_error: 1.8765\n",
      "Epoch 8/100\n",
      "100/100 [==============================] - 0s 170us/step - loss: 2.3233 - mean_squared_error: 2.3233 - val_loss: 1.8699 - val_mean_squared_error: 1.8699\n",
      "Epoch 9/100\n",
      "100/100 [==============================] - 0s 160us/step - loss: 2.3092 - mean_squared_error: 2.3092 - val_loss: 1.8672 - val_mean_squared_error: 1.8672\n",
      "Epoch 10/100\n",
      "100/100 [==============================] - 0s 150us/step - loss: 2.3236 - mean_squared_error: 2.3236 - val_loss: 1.8785 - val_mean_squared_error: 1.8785\n",
      "Epoch 11/100\n",
      "100/100 [==============================] - 0s 170us/step - loss: 2.3101 - mean_squared_error: 2.3101 - val_loss: 1.8749 - val_mean_squared_error: 1.8749\n",
      "Epoch 12/100\n",
      "100/100 [==============================] - 0s 160us/step - loss: 2.3198 - mean_squared_error: 2.3198 - val_loss: 1.8695 - val_mean_squared_error: 1.8695\n",
      "Epoch 13/100\n",
      "100/100 [==============================] - 0s 140us/step - loss: 2.3173 - mean_squared_error: 2.3173 - val_loss: 1.8739 - val_mean_squared_error: 1.8739\n",
      "Epoch 14/100\n",
      "100/100 [==============================] - 0s 190us/step - loss: 2.3147 - mean_squared_error: 2.3147 - val_loss: 1.8744 - val_mean_squared_error: 1.8744\n",
      "Epoch 15/100\n",
      "100/100 [==============================] - 0s 150us/step - loss: 2.3163 - mean_squared_error: 2.3163 - val_loss: 1.8703 - val_mean_squared_error: 1.8703\n",
      "Epoch 16/100\n",
      "100/100 [==============================] - 0s 160us/step - loss: 2.3138 - mean_squared_error: 2.3138 - val_loss: 1.8751 - val_mean_squared_error: 1.8751\n",
      "Epoch 17/100\n",
      "100/100 [==============================] - 0s 150us/step - loss: 2.3232 - mean_squared_error: 2.3232 - val_loss: 1.8776 - val_mean_squared_error: 1.8776\n",
      "Epoch 18/100\n",
      "100/100 [==============================] - 0s 220us/step - loss: 2.3125 - mean_squared_error: 2.3125 - val_loss: 1.8823 - val_mean_squared_error: 1.8823\n",
      "Epoch 19/100\n",
      "100/100 [==============================] - 0s 130us/step - loss: 2.3143 - mean_squared_error: 2.3143 - val_loss: 1.8760 - val_mean_squared_error: 1.8760\n",
      "Epoch 20/100\n",
      "100/100 [==============================] - 0s 180us/step - loss: 2.3118 - mean_squared_error: 2.3118 - val_loss: 1.8766 - val_mean_squared_error: 1.8766\n",
      "Epoch 21/100\n",
      "100/100 [==============================] - 0s 130us/step - loss: 2.3078 - mean_squared_error: 2.3078 - val_loss: 1.8787 - val_mean_squared_error: 1.8787\n",
      "Epoch 22/100\n",
      "100/100 [==============================] - 0s 140us/step - loss: 2.3067 - mean_squared_error: 2.3067 - val_loss: 1.8790 - val_mean_squared_error: 1.8790\n",
      "Epoch 23/100\n",
      "100/100 [==============================] - 0s 150us/step - loss: 2.3012 - mean_squared_error: 2.3012 - val_loss: 1.8740 - val_mean_squared_error: 1.8740\n",
      "Epoch 24/100\n",
      "100/100 [==============================] - 0s 180us/step - loss: 2.3060 - mean_squared_error: 2.3060 - val_loss: 1.8792 - val_mean_squared_error: 1.8792\n",
      "Epoch 25/100\n",
      "100/100 [==============================] - 0s 130us/step - loss: 2.3137 - mean_squared_error: 2.3137 - val_loss: 1.8789 - val_mean_squared_error: 1.8789\n",
      "Epoch 26/100\n",
      "100/100 [==============================] - 0s 170us/step - loss: 2.3026 - mean_squared_error: 2.3026 - val_loss: 1.8814 - val_mean_squared_error: 1.8814\n",
      "Epoch 27/100\n",
      "100/100 [==============================] - 0s 170us/step - loss: 2.3045 - mean_squared_error: 2.3045 - val_loss: 1.8767 - val_mean_squared_error: 1.8767\n",
      "Epoch 28/100\n",
      "100/100 [==============================] - 0s 170us/step - loss: 2.3085 - mean_squared_error: 2.3085 - val_loss: 1.8717 - val_mean_squared_error: 1.8717\n",
      "Epoch 29/100\n",
      "100/100 [==============================] - 0s 150us/step - loss: 2.3031 - mean_squared_error: 2.3031 - val_loss: 1.8785 - val_mean_squared_error: 1.8785\n",
      "Epoch 30/100\n",
      "100/100 [==============================] - 0s 170us/step - loss: 2.3005 - mean_squared_error: 2.3005 - val_loss: 1.8738 - val_mean_squared_error: 1.8738\n",
      "Epoch 31/100\n",
      "100/100 [==============================] - 0s 120us/step - loss: 2.2959 - mean_squared_error: 2.2959 - val_loss: 1.8782 - val_mean_squared_error: 1.8782\n",
      "Epoch 32/100\n",
      "100/100 [==============================] - 0s 180us/step - loss: 2.2936 - mean_squared_error: 2.2936 - val_loss: 1.8732 - val_mean_squared_error: 1.8732\n",
      "Epoch 33/100\n",
      "100/100 [==============================] - 0s 140us/step - loss: 2.2983 - mean_squared_error: 2.2983 - val_loss: 1.8733 - val_mean_squared_error: 1.8733\n",
      "Epoch 34/100\n",
      "100/100 [==============================] - 0s 140us/step - loss: 2.3017 - mean_squared_error: 2.3017 - val_loss: 1.8697 - val_mean_squared_error: 1.8697\n",
      "Epoch 35/100\n",
      "100/100 [==============================] - 0s 130us/step - loss: 2.3047 - mean_squared_error: 2.3047 - val_loss: 1.8725 - val_mean_squared_error: 1.8725\n",
      "Epoch 36/100\n",
      "100/100 [==============================] - 0s 150us/step - loss: 2.2921 - mean_squared_error: 2.2921 - val_loss: 1.8720 - val_mean_squared_error: 1.8720\n",
      "Epoch 37/100\n",
      "100/100 [==============================] - 0s 120us/step - loss: 2.3038 - mean_squared_error: 2.3038 - val_loss: 1.8709 - val_mean_squared_error: 1.8709\n",
      "Epoch 38/100\n",
      "100/100 [==============================] - 0s 190us/step - loss: 2.3042 - mean_squared_error: 2.3042 - val_loss: 1.8733 - val_mean_squared_error: 1.8733\n",
      "Epoch 39/100\n",
      "100/100 [==============================] - 0s 120us/step - loss: 2.2971 - mean_squared_error: 2.2971 - val_loss: 1.8743 - val_mean_squared_error: 1.8743\n",
      "Epoch 40/100\n",
      "100/100 [==============================] - 0s 150us/step - loss: 2.2916 - mean_squared_error: 2.2916 - val_loss: 1.8792 - val_mean_squared_error: 1.8792\n",
      "Epoch 41/100\n",
      "100/100 [==============================] - 0s 190us/step - loss: 2.3038 - mean_squared_error: 2.3038 - val_loss: 1.8763 - val_mean_squared_error: 1.8763\n",
      "Epoch 42/100\n",
      "100/100 [==============================] - 0s 180us/step - loss: 2.2883 - mean_squared_error: 2.2883 - val_loss: 1.8706 - val_mean_squared_error: 1.8706\n",
      "Epoch 43/100\n",
      "100/100 [==============================] - 0s 130us/step - loss: 2.2959 - mean_squared_error: 2.2959 - val_loss: 1.8774 - val_mean_squared_error: 1.8774\n",
      "Epoch 44/100\n",
      "100/100 [==============================] - 0s 170us/step - loss: 2.2913 - mean_squared_error: 2.2913 - val_loss: 1.8823 - val_mean_squared_error: 1.8823\n",
      "Epoch 45/100\n",
      "100/100 [==============================] - 0s 160us/step - loss: 2.2966 - mean_squared_error: 2.2966 - val_loss: 1.8767 - val_mean_squared_error: 1.8767\n",
      "Epoch 46/100\n",
      "100/100 [==============================] - 0s 150us/step - loss: 2.2872 - mean_squared_error: 2.2872 - val_loss: 1.8741 - val_mean_squared_error: 1.8741\n",
      "Epoch 47/100\n",
      "100/100 [==============================] - 0s 160us/step - loss: 2.2890 - mean_squared_error: 2.2890 - val_loss: 1.8741 - val_mean_squared_error: 1.8741\n",
      "Epoch 48/100\n",
      "100/100 [==============================] - 0s 120us/step - loss: 2.2807 - mean_squared_error: 2.2807 - val_loss: 1.8714 - val_mean_squared_error: 1.8714\n",
      "Epoch 49/100\n",
      "100/100 [==============================] - 0s 150us/step - loss: 2.2929 - mean_squared_error: 2.2929 - val_loss: 1.8679 - val_mean_squared_error: 1.8679\n",
      "Epoch 50/100\n"
     ]
    },
    {
     "name": "stdout",
     "output_type": "stream",
     "text": [
      "100/100 [==============================] - 0s 130us/step - loss: 2.2898 - mean_squared_error: 2.2898 - val_loss: 1.8718 - val_mean_squared_error: 1.8718\n",
      "Epoch 51/100\n",
      "100/100 [==============================] - 0s 140us/step - loss: 2.2783 - mean_squared_error: 2.2783 - val_loss: 1.8683 - val_mean_squared_error: 1.8683\n",
      "Epoch 52/100\n",
      "100/100 [==============================] - 0s 150us/step - loss: 2.2868 - mean_squared_error: 2.2868 - val_loss: 1.8763 - val_mean_squared_error: 1.8763\n",
      "Epoch 53/100\n",
      "100/100 [==============================] - 0s 120us/step - loss: 2.2764 - mean_squared_error: 2.2764 - val_loss: 1.8800 - val_mean_squared_error: 1.8800\n",
      "Epoch 54/100\n",
      "100/100 [==============================] - 0s 160us/step - loss: 2.2828 - mean_squared_error: 2.2828 - val_loss: 1.8809 - val_mean_squared_error: 1.8809\n",
      "Epoch 55/100\n",
      "100/100 [==============================] - 0s 190us/step - loss: 2.2859 - mean_squared_error: 2.2859 - val_loss: 1.8724 - val_mean_squared_error: 1.8724\n",
      "Epoch 56/100\n",
      "100/100 [==============================] - 0s 180us/step - loss: 2.3033 - mean_squared_error: 2.3033 - val_loss: 1.8741 - val_mean_squared_error: 1.8741\n",
      "Epoch 57/100\n",
      "100/100 [==============================] - 0s 160us/step - loss: 2.2765 - mean_squared_error: 2.2765 - val_loss: 1.8771 - val_mean_squared_error: 1.8771\n",
      "Epoch 58/100\n",
      "100/100 [==============================] - 0s 190us/step - loss: 2.2821 - mean_squared_error: 2.2821 - val_loss: 1.8692 - val_mean_squared_error: 1.8692\n",
      "Epoch 59/100\n",
      "100/100 [==============================] - 0s 190us/step - loss: 2.2826 - mean_squared_error: 2.2826 - val_loss: 1.8672 - val_mean_squared_error: 1.8672\n",
      "Epoch 60/100\n",
      "100/100 [==============================] - 0s 170us/step - loss: 2.2962 - mean_squared_error: 2.2962 - val_loss: 1.8632 - val_mean_squared_error: 1.8632\n",
      "Epoch 61/100\n",
      "100/100 [==============================] - 0s 180us/step - loss: 2.2751 - mean_squared_error: 2.2751 - val_loss: 1.8619 - val_mean_squared_error: 1.8619\n",
      "Epoch 62/100\n",
      "100/100 [==============================] - 0s 200us/step - loss: 2.2719 - mean_squared_error: 2.2719 - val_loss: 1.8593 - val_mean_squared_error: 1.8593\n",
      "Epoch 63/100\n",
      "100/100 [==============================] - 0s 190us/step - loss: 2.2826 - mean_squared_error: 2.2826 - val_loss: 1.8660 - val_mean_squared_error: 1.8660\n",
      "Epoch 64/100\n",
      "100/100 [==============================] - 0s 190us/step - loss: 2.2788 - mean_squared_error: 2.2788 - val_loss: 1.8683 - val_mean_squared_error: 1.8683\n",
      "Epoch 65/100\n",
      "100/100 [==============================] - 0s 170us/step - loss: 2.2765 - mean_squared_error: 2.2765 - val_loss: 1.8646 - val_mean_squared_error: 1.8646\n",
      "Epoch 66/100\n",
      "100/100 [==============================] - 0s 170us/step - loss: 2.2933 - mean_squared_error: 2.2933 - val_loss: 1.8623 - val_mean_squared_error: 1.8623\n",
      "Epoch 67/100\n",
      "100/100 [==============================] - 0s 180us/step - loss: 2.2681 - mean_squared_error: 2.2681 - val_loss: 1.8586 - val_mean_squared_error: 1.8586\n",
      "Epoch 68/100\n",
      "100/100 [==============================] - 0s 200us/step - loss: 2.2781 - mean_squared_error: 2.2781 - val_loss: 1.8578 - val_mean_squared_error: 1.8578\n",
      "Epoch 69/100\n",
      "100/100 [==============================] - 0s 210us/step - loss: 2.2732 - mean_squared_error: 2.2732 - val_loss: 1.8674 - val_mean_squared_error: 1.8674\n",
      "Epoch 70/100\n",
      "100/100 [==============================] - 0s 200us/step - loss: 2.2729 - mean_squared_error: 2.2729 - val_loss: 1.8688 - val_mean_squared_error: 1.8688\n",
      "Epoch 71/100\n",
      "100/100 [==============================] - 0s 160us/step - loss: 2.2875 - mean_squared_error: 2.2875 - val_loss: 1.8625 - val_mean_squared_error: 1.8625\n",
      "Epoch 72/100\n",
      "100/100 [==============================] - 0s 180us/step - loss: 2.2664 - mean_squared_error: 2.2664 - val_loss: 1.8635 - val_mean_squared_error: 1.8635\n",
      "Epoch 73/100\n",
      "100/100 [==============================] - 0s 170us/step - loss: 2.2724 - mean_squared_error: 2.2724 - val_loss: 1.8678 - val_mean_squared_error: 1.8678\n",
      "Epoch 74/100\n",
      "100/100 [==============================] - 0s 150us/step - loss: 2.2836 - mean_squared_error: 2.2836 - val_loss: 1.8644 - val_mean_squared_error: 1.8644\n",
      "Epoch 75/100\n",
      "100/100 [==============================] - 0s 220us/step - loss: 2.2870 - mean_squared_error: 2.2870 - val_loss: 1.8629 - val_mean_squared_error: 1.8629\n",
      "Epoch 76/100\n",
      "100/100 [==============================] - 0s 180us/step - loss: 2.2712 - mean_squared_error: 2.2712 - val_loss: 1.8611 - val_mean_squared_error: 1.8611\n",
      "Epoch 77/100\n",
      "100/100 [==============================] - 0s 150us/step - loss: 2.2698 - mean_squared_error: 2.2698 - val_loss: 1.8565 - val_mean_squared_error: 1.8565\n",
      "Epoch 78/100\n",
      "100/100 [==============================] - 0s 180us/step - loss: 2.2767 - mean_squared_error: 2.2767 - val_loss: 1.8645 - val_mean_squared_error: 1.8645\n",
      "Epoch 79/100\n",
      "100/100 [==============================] - 0s 170us/step - loss: 2.2669 - mean_squared_error: 2.2669 - val_loss: 1.8679 - val_mean_squared_error: 1.8679\n",
      "Epoch 80/100\n",
      "100/100 [==============================] - 0s 190us/step - loss: 2.2717 - mean_squared_error: 2.2717 - val_loss: 1.8732 - val_mean_squared_error: 1.8732\n",
      "Epoch 81/100\n",
      "100/100 [==============================] - 0s 220us/step - loss: 2.2682 - mean_squared_error: 2.2682 - val_loss: 1.8682 - val_mean_squared_error: 1.8682\n",
      "Epoch 82/100\n",
      "100/100 [==============================] - 0s 140us/step - loss: 2.2653 - mean_squared_error: 2.2653 - val_loss: 1.8752 - val_mean_squared_error: 1.8752\n",
      "Epoch 83/100\n",
      "100/100 [==============================] - 0s 200us/step - loss: 2.2673 - mean_squared_error: 2.2673 - val_loss: 1.8708 - val_mean_squared_error: 1.8708\n",
      "Epoch 84/100\n",
      "100/100 [==============================] - 0s 160us/step - loss: 2.2676 - mean_squared_error: 2.2676 - val_loss: 1.8765 - val_mean_squared_error: 1.8765\n",
      "Epoch 85/100\n",
      "100/100 [==============================] - 0s 160us/step - loss: 2.2686 - mean_squared_error: 2.2686 - val_loss: 1.8694 - val_mean_squared_error: 1.8694\n",
      "Epoch 86/100\n",
      "100/100 [==============================] - 0s 180us/step - loss: 2.2669 - mean_squared_error: 2.2669 - val_loss: 1.8619 - val_mean_squared_error: 1.8619\n",
      "Epoch 87/100\n",
      "100/100 [==============================] - 0s 210us/step - loss: 2.2688 - mean_squared_error: 2.2688 - val_loss: 1.8631 - val_mean_squared_error: 1.8631\n",
      "Epoch 88/100\n",
      "100/100 [==============================] - 0s 110us/step - loss: 2.2651 - mean_squared_error: 2.2651 - val_loss: 1.8719 - val_mean_squared_error: 1.8719\n",
      "Epoch 89/100\n",
      "100/100 [==============================] - 0s 160us/step - loss: 2.2607 - mean_squared_error: 2.2607 - val_loss: 1.8650 - val_mean_squared_error: 1.8650\n",
      "Epoch 90/100\n",
      "100/100 [==============================] - 0s 130us/step - loss: 2.2660 - mean_squared_error: 2.2660 - val_loss: 1.8656 - val_mean_squared_error: 1.8656\n",
      "Epoch 91/100\n",
      "100/100 [==============================] - 0s 150us/step - loss: 2.2600 - mean_squared_error: 2.2600 - val_loss: 1.8630 - val_mean_squared_error: 1.8630\n",
      "Epoch 92/100\n",
      "100/100 [==============================] - 0s 150us/step - loss: 2.2554 - mean_squared_error: 2.2554 - val_loss: 1.8762 - val_mean_squared_error: 1.8762\n",
      "Epoch 93/100\n",
      "100/100 [==============================] - 0s 190us/step - loss: 2.2755 - mean_squared_error: 2.2755 - val_loss: 1.8705 - val_mean_squared_error: 1.8705\n",
      "Epoch 94/100\n",
      "100/100 [==============================] - 0s 160us/step - loss: 2.2632 - mean_squared_error: 2.2632 - val_loss: 1.8704 - val_mean_squared_error: 1.8704\n",
      "Epoch 95/100\n",
      "100/100 [==============================] - 0s 170us/step - loss: 2.2595 - mean_squared_error: 2.2595 - val_loss: 1.8633 - val_mean_squared_error: 1.8633\n",
      "Epoch 96/100\n",
      "100/100 [==============================] - 0s 140us/step - loss: 2.2749 - mean_squared_error: 2.2749 - val_loss: 1.8619 - val_mean_squared_error: 1.8619\n",
      "Epoch 97/100\n",
      "100/100 [==============================] - 0s 130us/step - loss: 2.2603 - mean_squared_error: 2.2603 - val_loss: 1.8580 - val_mean_squared_error: 1.8580\n",
      "Epoch 98/100\n",
      "100/100 [==============================] - 0s 150us/step - loss: 2.2524 - mean_squared_error: 2.2524 - val_loss: 1.8658 - val_mean_squared_error: 1.8658\n",
      "Epoch 99/100\n"
     ]
    },
    {
     "name": "stdout",
     "output_type": "stream",
     "text": [
      "100/100 [==============================] - 0s 140us/step - loss: 2.2695 - mean_squared_error: 2.2695 - val_loss: 1.8662 - val_mean_squared_error: 1.8662\n",
      "Epoch 100/100\n",
      "100/100 [==============================] - 0s 180us/step - loss: 2.2554 - mean_squared_error: 2.2554 - val_loss: 1.8767 - val_mean_squared_error: 1.8767\n"
     ]
    }
   ],
   "source": [
    "#train the model\n",
    "\n",
    "model_diag = model.fit(x_train,y_train,batch_size=10,epochs=100,verbose=1,validation_data=(x_test,y_test))"
   ]
  },
  {
   "cell_type": "code",
   "execution_count": 47,
   "metadata": {},
   "outputs": [
    {
     "data": {
      "image/png": "[encoded data removed]",
      "text/plain": [
       "<matplotlib.figure.Figure at 0x21fddcf5208>"
      ]
     },
     "metadata": {},
     "output_type": "display_data"
    }
   ],
   "source": [
    "model_epoc_values = model_diag.history['loss']\n",
    "plt.plot(model_epoc_values)\n",
    "keys = model_diag.history.keys()\n",
    "plt.show()"
   ]
  },
  {
   "cell_type": "code",
   "execution_count": 48,
   "metadata": {},
   "outputs": [
    {
     "data": {
      "text/plain": [
       "dict_keys(['val_loss', 'val_mean_squared_error', 'loss', 'mean_squared_error'])"
      ]
     },
     "execution_count": 48,
     "metadata": {},
     "output_type": "execute_result"
    }
   ],
   "source": [
    "keys"
   ]
  },
  {
   "cell_type": "code",
   "execution_count": 42,
   "metadata": {},
   "outputs": [
    {
     "data": {
      "text/plain": [
       "array([[11.651571],\n",
       "       [10.630678],\n",
       "       [10.29038 ],\n",
       "       [13.693356],\n",
       "       [13.012762],\n",
       "       [ 8.248593],\n",
       "       [ 9.950082],\n",
       "       [10.630678],\n",
       "       [ 9.269486],\n",
       "       [11.991869],\n",
       "       [11.311273],\n",
       "       [ 8.92919 ],\n",
       "       [10.630678],\n",
       "       [ 9.269486],\n",
       "       [ 9.609784],\n",
       "       [11.311273],\n",
       "       [ 9.950082],\n",
       "       [14.033655],\n",
       "       [10.29038 ],\n",
       "       [ 8.92919 ],\n",
       "       [13.012762],\n",
       "       [12.672462],\n",
       "       [ 9.269486],\n",
       "       [10.29038 ],\n",
       "       [12.332167],\n",
       "       [ 9.269486],\n",
       "       [11.991869],\n",
       "       [13.35306 ],\n",
       "       [ 9.269486],\n",
       "       [11.311273],\n",
       "       [ 9.269486],\n",
       "       [11.651571],\n",
       "       [10.630678],\n",
       "       [11.311273],\n",
       "       [10.970975],\n",
       "       [10.29038 ],\n",
       "       [10.630678],\n",
       "       [11.991869],\n",
       "       [14.714251],\n",
       "       [13.693356],\n",
       "       [ 8.92919 ],\n",
       "       [11.651571],\n",
       "       [ 9.269486],\n",
       "       [ 8.58889 ]], dtype=float32)"
      ]
     },
     "execution_count": 42,
     "metadata": {},
     "output_type": "execute_result"
    }
   ],
   "source": [
    "#make predictions\n",
    "\n",
    "model.predict(x_test,batch_size=32)"
   ]
  },
  {
   "cell_type": "code",
   "execution_count": 37,
   "metadata": {
    "collapsed": true
   },
   "outputs": [],
   "source": [
    "pred = [5.0,7.0,2.5]"
   ]
  },
  {
   "cell_type": "code",
   "execution_count": 38,
   "metadata": {
    "collapsed": true
   },
   "outputs": [],
   "source": [
    "new = model.predict(pred)"
   ]
  },
  {
   "cell_type": "code",
   "execution_count": 39,
   "metadata": {},
   "outputs": [
    {
     "data": {
      "text/plain": [
       "array([[17.890858],\n",
       "       [24.20813 ],\n",
       "       [ 9.987882]], dtype=float32)"
      ]
     },
     "execution_count": 39,
     "metadata": {},
     "output_type": "execute_result"
    }
   ],
   "source": [
    "new"
   ]
  },
  {
   "cell_type": "code",
   "execution_count": 49,
   "metadata": {
    "collapsed": true
   },
   "outputs": [],
   "source": [
    "def fn_differences(actual,predicted):\n",
    "    error = actual - predicted\n",
    "    abs_error = abs(error)\n",
    "    percent_error =error/actual\n",
    "    \n",
    "    mean_abs_error = np.mean(abs_error)\n",
    "    mean_abs_percent_error = np.mean(percent_error)\n",
    "    \n",
    "    return mean_abs_percent_error"
   ]
  },
  {
   "cell_type": "code",
   "execution_count": 50,
   "metadata": {
    "collapsed": true
   },
   "outputs": [],
   "source": [
    "#Check the model performance\n",
    "predict_y_train = model.predict(x_train)"
   ]
  },
  {
   "cell_type": "code",
   "execution_count": 57,
   "metadata": {},
   "outputs": [],
   "source": [
    "act = y_train[1]\n",
    "train_error = fn_differences(act,predict_y_train)"
   ]
  },
  {
   "cell_type": "code",
   "execution_count": 58,
   "metadata": {},
   "outputs": [
    {
     "data": {
      "text/plain": [
       "-0.43856204"
      ]
     },
     "execution_count": 58,
     "metadata": {},
     "output_type": "execute_result"
    }
   ],
   "source": [
    "train_error"
   ]
  },
  {
   "cell_type": "code",
   "execution_count": 59,
   "metadata": {},
   "outputs": [
    {
     "data": {
      "text/plain": [
       "pandas.core.series.Series"
      ]
     },
     "execution_count": 59,
     "metadata": {},
     "output_type": "execute_result"
    }
   ],
   "source": [
    "type(y_train)"
   ]
  },
  {
   "cell_type": "code",
   "execution_count": 61,
   "metadata": {},
   "outputs": [],
   "source": [
    "from keras.wrappers.scikit_learn import KerasRegressor"
   ]
  },
  {
   "cell_type": "code",
   "execution_count": 63,
   "metadata": {},
   "outputs": [],
   "source": [
    "def fn_def_model():\n",
    "    no_of_hidden_layers = 1\n",
    "    model1 = Sequential()\n",
    "    model1.add(Dense(4,activation='relu',input_dim=1)) #Input layer\n",
    "    for i in range(no_of_hidden_layers):\n",
    "        model1.add(Dense(6,activation='relu')) #Hidden layer\n",
    "    model1.add(Dense(1,activation='linear',input_dim=1)) #Linear Regression Output layer\n",
    "    #compile the model\n",
    "    model1.compile(loss='mse',optimizer='RMSProp',metrics=['mse'])\n",
    "    return model1"
   ]
  },
  {
   "cell_type": "code",
   "execution_count": null,
   "metadata": {
    "collapsed": true
   },
   "outputs": [],
   "source": [
    "estimator = KerasRegressor(build_fn=fn_def_model,epochs=200,)"
   ]
  },
  {
   "cell_type": "code",
   "execution_count": 64,
   "metadata": {
    "collapsed": true
   },
   "outputs": [],
   "source": [
    "from sklearn.model_selection import cross_val_score"
   ]
  },
  {
   "cell_type": "code",
   "execution_count": 65,
   "metadata": {
    "collapsed": true
   },
   "outputs": [],
   "source": [
    "from sklearn.model_selection import KFold"
   ]
  },
  {
   "cell_type": "code",
   "execution_count": null,
   "metadata": {
    "collapsed": true
   },
   "outputs": [],
   "source": [
    "kfolds = KFold(n_splits=10,random_state=999)\n",
    "Results = cross_val_score(estimator,x_train,y_train,cv=kfolds)\n",
    "Results.mean()\n",
    "Results.std()"
   ]
  }
 ],
 "metadata": {
  "kernelspec": {
   "display_name": "Python 3",
   "language": "python",
   "name": "python3"
  },
  "language_info": {
   "codemirror_mode": {
    "name": "ipython",
    "version": 3
   },
   "file_extension": ".py",
   "mimetype": "text/x-python",
   "name": "python",
   "nbconvert_exporter": "python",
   "pygments_lexer": "ipython3",
   "version": "3.6.2"
  }
 },
 "nbformat": 4,
 "nbformat_minor": 2
}
