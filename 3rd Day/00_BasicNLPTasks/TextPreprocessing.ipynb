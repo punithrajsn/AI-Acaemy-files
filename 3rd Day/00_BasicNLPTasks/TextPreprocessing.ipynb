{
 "cells": [
  {
   "cell_type": "code",
   "execution_count": 1,
   "metadata": {},
   "outputs": [
    {
     "name": "stderr",
     "output_type": "stream",
     "text": [
      "[nltk_data] Downloading package punkt to\n",
      "[nltk_data]     C:\\Users\\CG0002\\AppData\\Roaming\\nltk_data...\n",
      "[nltk_data]   Unzipping tokenizers\\punkt.zip.\n"
     ]
    },
    {
     "data": {
      "text/plain": [
       "True"
      ]
     },
     "execution_count": 1,
     "metadata": {},
     "output_type": "execute_result"
    }
   ],
   "source": [
    "import nltk\n",
    "nltk.download('punkt')"
   ]
  },
  {
   "cell_type": "code",
   "execution_count": 10,
   "metadata": {},
   "outputs": [
    {
     "name": "stdout",
     "output_type": "stream",
     "text": [
      "['I want to be a certified artificial intelligence professional']\n",
      "['I', 'want', 'to', 'be', 'a', 'certified', 'artificial', 'intelligence', 'professional']\n",
      "I\n",
      "want\n",
      "to\n",
      "be\n",
      "a\n",
      "certified\n",
      "artificial\n",
      "intelligence\n",
      "professional\n"
     ]
    }
   ],
   "source": [
    "#---------------------------- Tokenizing Text -----------------------------------------------#\n",
    "# nltk.download('wordnet')\n",
    "from nltk.tokenize import sent_tokenize, word_tokenize\n",
    "\n",
    "example_text = \"I want to be a certified artificial intelligence professional\"\n",
    "\n",
    "print(sent_tokenize(example_text))\n",
    "\n",
    "print(word_tokenize(example_text))\n",
    "\n",
    "for i in word_tokenize(example_text):print(i)"
   ]
  },
  {
   "cell_type": "code",
   "execution_count": 11,
   "metadata": {},
   "outputs": [
    {
     "name": "stdout",
     "output_type": "stream",
     "text": [
      "[('I', 'want'), ('want', 'to'), ('to', 'be'), ('be', 'a'), ('a', 'certified'), ('certified', 'artificial'), ('artificial', 'intelligence'), ('intelligence', 'professional')]\n"
     ]
    }
   ],
   "source": [
    "# ------------ bigrams ----------------#\n",
    "\n",
    "word_data = 'I want to be a certified artificial intelligence professional'\n",
    "nltk_tokens = nltk.word_tokenize(word_data)\n",
    "print(list(nltk.bigrams(nltk_tokens)))"
   ]
  },
  {
   "cell_type": "code",
   "execution_count": 12,
   "metadata": {},
   "outputs": [
    {
     "name": "stdout",
     "output_type": "stream",
     "text": [
      "['I', 'want', 'to', 'be', 'a', 'certified', 'artificial', 'intelligence', 'professional', 'I want', 'want to', 'to be', 'be a', 'a certified', 'certified artificial', 'artificial intelligence', 'intelligence professional', 'I want to', 'want to be', 'to be a', 'be a certified', 'a certified artificial', 'certified artificial intelligence', 'artificial intelligence professional', 'I want to be', 'want to be a', 'to be a certified', 'be a certified artificial', 'a certified artificial intelligence', 'certified artificial intelligence professional']\n"
     ]
    }
   ],
   "source": [
    "# --------------- n-gram --------------#\n",
    "\n",
    "from nltk.util import ngrams\n",
    "\n",
    "def word_grams(words, min=1, max=5):\n",
    "    s = []\n",
    "    for n in range(min, max):\n",
    "        for ngram in ngrams(words, n):\n",
    "            s.append(' '.join(str(i) for i in ngram))\n",
    "    return s\n",
    "\n",
    "print(word_grams(nltk_tokens))"
   ]
  },
  {
   "cell_type": "code",
   "execution_count": 13,
   "metadata": {},
   "outputs": [
    {
     "name": "stdout",
     "output_type": "stream",
     "text": [
      "List of the Stop words\n",
      "{'isn', 'had', 'aren', 'can', 'hers', 'itself', 'what', 'haven', 'did', 'through', 'to', 'if', 'under', 'most', \"isn't\", \"doesn't\", 'ma', 'be', 'doesn', 'y', 'm', 't', 'couldn', 'more', 'needn', 'they', \"won't\", 'yourself', \"you're\", 'we', 'very', 'again', 'have', 'until', 'who', \"should've\", 'from', 'do', \"aren't\", 'his', 'was', 'then', 'themselves', \"you'd\", 'between', 'below', 'does', 'up', 'further', 'own', 'herself', 'weren', \"you've\", 'about', 'no', 'too', 'here', 'ours', 'd', 'is', \"shouldn't\", 'down', 'being', 'shouldn', 's', \"weren't\", \"didn't\", 'these', 'their', 'o', 'its', 'those', \"wouldn't\", 'it', 'myself', 'during', \"wasn't\", 'me', 'yourselves', 'this', 'only', 'in', 'our', 'them', 'her', 'some', 'wasn', 'won', 'were', 'ain', \"she's\", 'or', 'so', 'shan', 'whom', 'off', 'should', 'you', 'he', 'wouldn', 'having', 'yours', 'above', 'on', 'just', 'i', \"don't\", 'll', 'once', 'which', 'any', 'by', \"needn't\", 'him', 'nor', \"hadn't\", 'how', 'hasn', 'an', 'mustn', 'but', 'has', \"haven't\", 'your', 'mightn', 'ourselves', 'she', 'of', 'after', 'am', 'than', 'there', 'that', 'now', 'hadn', 'and', 'a', 'each', 'other', 'the', 'against', \"it's\", 've', 'not', \"couldn't\", \"that'll\", 'doing', 're', 'where', 'when', 'before', 'with', 'same', 'been', 'such', 'don', 'at', 'few', 'as', 'over', \"shan't\", 'himself', 'theirs', 'why', 'out', 'my', 'are', 'will', \"mustn't\", 'for', 'because', 'all', 'didn', \"mightn't\", 'into', \"hasn't\", 'while', \"you'll\", 'both'}\n",
      "['I', 'want', 'certified', 'artificial', 'intelligence', 'professional']\n"
     ]
    }
   ],
   "source": [
    "# ------------- Removing Stop Words ------------------------ #\n",
    "\n",
    "from nltk.corpus import stopwords\n",
    "from nltk.tokenize import word_tokenize\n",
    "\n",
    "#example_text = \"This is an example showing off stop word filtration.\"\n",
    "example_text = 'I want to be a certified artificial intelligence professional'\n",
    "\n",
    "stop_words = set(stopwords.words(\"english\"))\n",
    "\n",
    "print(\"List of the Stop words\")\n",
    "print(stop_words)\n",
    "\n",
    "words = word_tokenize(example_text)\n",
    "\n",
    "filtered_sentence = []\n",
    "\n",
    "for w in words:\n",
    "\tif w not in stop_words:\n",
    "\t\tfiltered_sentence.append(w)\n",
    "\n",
    "print(filtered_sentence)"
   ]
  },
  {
   "cell_type": "code",
   "execution_count": 14,
   "metadata": {},
   "outputs": [
    {
     "name": "stdout",
     "output_type": "stream",
     "text": [
      "python\n",
      "python\n",
      "python\n",
      "python\n",
      "pythonli\n"
     ]
    }
   ],
   "source": [
    "#------------- Normalization: Stemming and Lemmatization ---------------# \n",
    "\n",
    "from nltk.stem import PorterStemmer\n",
    "from nltk.tokenize import word_tokenize\n",
    "\n",
    "ps = PorterStemmer()\n",
    "\n",
    "example_words = [\"python\",\"pythoner\",\"pythoning\",\"pythoned\",\"pythonly\"]\n",
    "\n",
    "for w in example_words:\n",
    "\tprint(ps.stem(w))\n"
   ]
  },
  {
   "cell_type": "code",
   "execution_count": 15,
   "metadata": {},
   "outputs": [
    {
     "name": "stdout",
     "output_type": "stream",
     "text": [
      "It\n",
      "is\n",
      "veri\n",
      "import\n",
      "to\n",
      "be\n",
      "pythonli\n",
      "while\n",
      "you\n",
      "are\n",
      "python\n",
      "with\n",
      "python.python\n",
      "name\n",
      "is\n",
      "deriv\n",
      "from\n",
      "the\n",
      "python\n"
     ]
    }
   ],
   "source": [
    "#------------- Stemming - Another Example ---------------- #\n",
    "new_text = \"It is very important to be pythonly while you are pythoning with python.Python name is derived from the pythons\"\n",
    "\n",
    "words=word_tokenize(new_text)\n",
    "\n",
    "for w in words:\n",
    "\tprint(ps.stem(w))\n"
   ]
  },
  {
   "cell_type": "code",
   "execution_count": 16,
   "metadata": {},
   "outputs": [
    {
     "name": "stdout",
     "output_type": "stream",
     "text": [
      "rocks when lemmatized : rock\n",
      "corpora when lemmatized : corpus\n",
      "rocks when Stemmed : rock\n",
      "corpora when Stemmed : corpora\n",
      "better : good\n"
     ]
    },
    {
     "name": "stderr",
     "output_type": "stream",
     "text": [
      "[nltk_data] Downloading package wordnet to\n",
      "[nltk_data]     C:\\Users\\CG0002\\AppData\\Roaming\\nltk_data...\n",
      "[nltk_data]   Package wordnet is already up-to-date!\n"
     ]
    }
   ],
   "source": [
    "#----------------- Lemmatization Example --------------------#\n",
    "nltk.download('wordnet')\n",
    "from nltk.stem import WordNetLemmatizer \n",
    "\n",
    "lemmatizer = WordNetLemmatizer() \n",
    "  \n",
    "print(\"rocks when lemmatized :\", lemmatizer.lemmatize(\"rocks\")) \n",
    "print(\"corpora when lemmatized :\", lemmatizer.lemmatize(\"corpora\"))\n",
    "\n",
    "#ps = PorterStemmer()\n",
    "print(\"rocks when Stemmed :\", ps.stem(\"rocks\")) \n",
    "print(\"corpora when Stemmed :\", ps.stem(\"corpora\"))\n",
    "\n",
    "# a denotes adjective in \"pos\" \n",
    "print(\"better :\", lemmatizer.lemmatize(\"better\", pos =\"a\")) "
   ]
  },
  {
   "cell_type": "code",
   "execution_count": 18,
   "metadata": {},
   "outputs": [
    {
     "name": "stderr",
     "output_type": "stream",
     "text": [
      "[nltk_data] Downloading package averaged_perceptron_tagger to\n",
      "[nltk_data]     C:\\Users\\CG0002\\AppData\\Roaming\\nltk_data...\n",
      "[nltk_data]   Unzipping taggers\\averaged_perceptron_tagger.zip.\n",
      "[nltk_data] Downloading package tagsets to\n",
      "[nltk_data]     C:\\Users\\CG0002\\AppData\\Roaming\\nltk_data...\n"
     ]
    },
    {
     "name": "stdout",
     "output_type": "stream",
     "text": [
      "PRP$: pronoun, possessive\n",
      "    her his mine my our ours their thy your\n",
      "JJ: adjective or numeral, ordinal\n",
      "    third ill-mannered pre-war regrettable oiled calamitous first separable\n",
      "    ectoplasmic battery-powered participatory fourth still-to-be-named\n",
      "    multilingual multi-disciplinary ...\n",
      "VBG: verb, present participle or gerund\n",
      "    telegraphing stirring focusing angering judging stalling lactating\n",
      "    hankerin' alleging veering capping approaching traveling besieging\n",
      "    encrypting interrupting erasing wincing ...\n"
     ]
    },
    {
     "name": "stderr",
     "output_type": "stream",
     "text": [
      "[nltk_data]   Unzipping help\\tagsets.zip.\n"
     ]
    }
   ],
   "source": [
    "#---------- Parts of Speech Tagging ----------# \n",
    "nltk.download('averaged_perceptron_tagger')\n",
    "example_text = \"The training is going great and the day is very fine.The code is working and all are happy about it\"\n",
    "token = nltk.word_tokenize(example_text)\n",
    "\n",
    "nltk.pos_tag(token)\n",
    "\n",
    "nltk.download('tagsets')\n",
    "\n",
    "# We can get more details about any POS tag using help funciton of NLTK as follows.\n",
    "nltk.help.upenn_tagset(\"PRP$\")\n",
    "nltk.help.upenn_tagset(\"JJ$\")\n",
    "nltk.help.upenn_tagset(\"VBG\")"
   ]
  },
  {
   "cell_type": "code",
   "execution_count": 1,
   "metadata": {},
   "outputs": [
    {
     "name": "stdout",
     "output_type": "stream",
     "text": [
      "[('European', 'NORP'), ('Google', 'ORG'), ('$5.1 billion', 'MONEY'), ('Wednesday', 'DATE')]\n",
      "[(European, 'B', 'NORP'), (authorities, 'O', ''), (fined, 'O', ''), (Google, 'B', 'ORG'), (a, 'O', ''), (record, 'O', ''), ($, 'B', 'MONEY'), (5.1, 'I', 'MONEY'), (billion, 'I', 'MONEY'), (on, 'O', ''), (Wednesday, 'B', 'DATE'), (for, 'O', ''), (abusing, 'O', ''), (its, 'O', ''), (power, 'O', ''), (in, 'O', ''), (the, 'O', ''), (mobile, 'O', ''), (phone, 'O', ''), (market, 'O', ''), (and, 'O', ''), (ordered, 'O', ''), (the, 'O', ''), (company, 'O', ''), (to, 'O', ''), (alter, 'O', ''), (its, 'O', ''), (practices, 'O', '')]\n",
      "[European, Google, $5.1 billion, Wednesday]\n"
     ]
    },
    {
     "data": {
      "text/html": [
       "<div class=\"entities\" style=\"line-height: 2.5; direction: ltr\">[\n",
       "<mark class=\"entity\" style=\"background: #c887fb; padding: 0.45em 0.6em; margin: 0 0.25em; line-height: 1; border-radius: 0.35em; box-decoration-break: clone; -webkit-box-decoration-break: clone\">\n",
       "    European\n",
       "    <span style=\"font-size: 0.8em; font-weight: bold; line-height: 1; border-radius: 0.35em; text-transform: uppercase; vertical-align: middle; margin-left: 0.5rem\">NORP</span>\n",
       "</mark>\n",
       ", \n",
       "<mark class=\"entity\" style=\"background: #7aecec; padding: 0.45em 0.6em; margin: 0 0.25em; line-height: 1; border-radius: 0.35em; box-decoration-break: clone; -webkit-box-decoration-break: clone\">\n",
       "    Google\n",
       "    <span style=\"font-size: 0.8em; font-weight: bold; line-height: 1; border-radius: 0.35em; text-transform: uppercase; vertical-align: middle; margin-left: 0.5rem\">ORG</span>\n",
       "</mark>\n",
       ", \n",
       "<mark class=\"entity\" style=\"background: #e4e7d2; padding: 0.45em 0.6em; margin: 0 0.25em; line-height: 1; border-radius: 0.35em; box-decoration-break: clone; -webkit-box-decoration-break: clone\">\n",
       "    $5.1 billion\n",
       "    <span style=\"font-size: 0.8em; font-weight: bold; line-height: 1; border-radius: 0.35em; text-transform: uppercase; vertical-align: middle; margin-left: 0.5rem\">MONEY</span>\n",
       "</mark>\n",
       ", \n",
       "<mark class=\"entity\" style=\"background: #bfe1d9; padding: 0.45em 0.6em; margin: 0 0.25em; line-height: 1; border-radius: 0.35em; box-decoration-break: clone; -webkit-box-decoration-break: clone\">\n",
       "    Wednesday\n",
       "    <span style=\"font-size: 0.8em; font-weight: bold; line-height: 1; border-radius: 0.35em; text-transform: uppercase; vertical-align: middle; margin-left: 0.5rem\">DATE</span>\n",
       "</mark>\n",
       "]</div>"
      ],
      "text/plain": [
       "<IPython.core.display.HTML object>"
      ]
     },
     "metadata": {},
     "output_type": "display_data"
    }
   ],
   "source": [
    "#--------------------- Named Entity Recognition using Spacy -------------------------------#\n",
    "import spacy\n",
    "from spacy import displacy\n",
    "from collections import Counter\n",
    "import en_core_web_sm\n",
    "import pprint\n",
    "# Run in console  python -m spacy download en_core_web_sm\n",
    "nlp = en_core_web_sm.load()\n",
    "\n",
    "doc = nlp('European authorities fined Google a record $5.1 billion on Wednesday for abusing its power in the mobile phone market and ordered the company to alter its practices')\n",
    "\n",
    "print([(X.text, X.label_) for X in doc.ents])\n",
    "\n",
    "print([(X, X.ent_iob_, X.ent_type_) for X in doc])\n",
    "\n",
    "sentences = [x for x in doc.ents]\n",
    "\n",
    "print(sentences)\n",
    "\n",
    "displacy.render(nlp(str(sentences)), jupyter=True, style='ent')\n",
    "\n",
    "#displacy.serve(nlp(str(sentences)), style='ent')"
   ]
  },
  {
   "cell_type": "code",
   "execution_count": 2,
   "metadata": {},
   "outputs": [
    {
     "name": "stdout",
     "output_type": "stream",
     "text": [
      "Nationalities or religious or political groups\n"
     ]
    }
   ],
   "source": [
    "x1 = spacy.explain('NORP')\n",
    "print(x1)"
   ]
  },
  {
   "cell_type": "code",
   "execution_count": null,
   "metadata": {},
   "outputs": [],
   "source": []
  }
 ],
 "metadata": {
  "kernelspec": {
   "display_name": "Python 3",
   "language": "python",
   "name": "python3"
  },
  "language_info": {
   "codemirror_mode": {
    "name": "ipython",
    "version": 3
   },
   "file_extension": ".py",
   "mimetype": "text/x-python",
   "name": "python",
   "nbconvert_exporter": "python",
   "pygments_lexer": "ipython3",
   "version": "3.7.1"
  }
 },
 "nbformat": 4,
 "nbformat_minor": 2
}
