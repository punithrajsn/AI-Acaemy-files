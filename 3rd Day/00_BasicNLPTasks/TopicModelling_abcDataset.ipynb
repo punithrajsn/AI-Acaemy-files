{
 "cells": [
  {
   "cell_type": "code",
   "execution_count": 1,
   "metadata": {},
   "outputs": [],
   "source": [
    "import pandas as pd\n",
    "data = pd.read_csv('abcnews-date-text.csv', error_bad_lines=False);\n",
    "data_text = data[['headline_text']]\n",
    "data_text['index'] = data_text.index\n",
    "documents = data_text"
   ]
  },
  {
   "cell_type": "code",
   "execution_count": 2,
   "metadata": {},
   "outputs": [
    {
     "name": "stdout",
     "output_type": "stream",
     "text": [
      "1103663\n",
      "                                       headline_text  index\n",
      "0  aba decides against community broadcasting lic...      0\n",
      "1     act fire witnesses must be aware of defamation      1\n",
      "2     a g calls for infrastructure protection summit      2\n",
      "3           air nz staff in aust strike for pay rise      3\n",
      "4      air nz strike to affect australian travellers      4\n"
     ]
    }
   ],
   "source": [
    "#-- Exploring the data ---#\n",
    "print(len(documents))\n",
    "print(documents[:5])"
   ]
  },
  {
   "cell_type": "code",
   "execution_count": 3,
   "metadata": {},
   "outputs": [
    {
     "name": "stderr",
     "output_type": "stream",
     "text": [
      "[nltk_data] Downloading package wordnet to\n",
      "[nltk_data]     C:\\Users\\vsurampu\\AppData\\Roaming\\nltk_data...\n",
      "[nltk_data]   Package wordnet is already up-to-date!\n"
     ]
    },
    {
     "name": "stdout",
     "output_type": "stream",
     "text": [
      "original document: \n",
      "['rain', 'helps', 'dampen', 'bushfires']\n",
      "\n",
      "\n",
      " tokenized and lemmatized document: \n",
      "['rain', 'help', 'dampen', 'bushfir']\n"
     ]
    }
   ],
   "source": [
    "#--- Text Preprocessing ----- #\n",
    "\n",
    "import gensim\n",
    "from gensim.utils import simple_preprocess\n",
    "from gensim.parsing.preprocessing import STOPWORDS\n",
    "from nltk.stem import WordNetLemmatizer, SnowballStemmer\n",
    "from nltk.stem.porter import *\n",
    "import numpy as np\n",
    "np.random.seed(2018)\n",
    "import nltk\n",
    "nltk.download('wordnet')\n",
    "\n",
    "def lemmatize_stemming(text):\n",
    "    stemmer=SnowballStemmer(\"english\")\n",
    "    return stemmer.stem(WordNetLemmatizer().lemmatize(text, pos='v'))\n",
    "\n",
    "def preprocess(text):\n",
    "    result = []\n",
    "    for token in gensim.utils.simple_preprocess(text):\n",
    "        if token not in gensim.parsing.preprocessing.STOPWORDS and len(token) > 3:\n",
    "            result.append(lemmatize_stemming(token))\n",
    "    return result\n",
    "\n",
    "doc_sample = documents[documents['index'] == 4310].values[0][0]\n",
    "print('original document: ')\n",
    "words = []\n",
    "for word in doc_sample.split(' '):\n",
    "    words.append(word)\n",
    "print(words)\n",
    "print('\\n\\n tokenized and lemmatized document: ')\n",
    "print(preprocess(doc_sample))\n"
   ]
  },
  {
   "cell_type": "code",
   "execution_count": 4,
   "metadata": {},
   "outputs": [
    {
     "data": {
      "text/plain": [
       "0            [decid, communiti, broadcast, licenc]\n",
       "1                               [wit, awar, defam]\n",
       "2           [call, infrastructur, protect, summit]\n",
       "3                      [staff, aust, strike, rise]\n",
       "4             [strike, affect, australian, travel]\n",
       "5               [ambiti, olsson, win, tripl, jump]\n",
       "6           [antic, delight, record, break, barca]\n",
       "7    [aussi, qualifi, stosur, wast, memphi, match]\n",
       "8            [aust, address, secur, council, iraq]\n",
       "9                         [australia, lock, timet]\n",
       "Name: headline_text, dtype: object"
      ]
     },
     "execution_count": 4,
     "metadata": {},
     "output_type": "execute_result"
    }
   ],
   "source": [
    "#--Preprocess the headline text, saving the results as ‘processed_docs’--#\n",
    "processed_docs = documents['headline_text'].map(preprocess)\n",
    "processed_docs[:10]"
   ]
  },
  {
   "cell_type": "code",
   "execution_count": 5,
   "metadata": {},
   "outputs": [
    {
     "name": "stdout",
     "output_type": "stream",
     "text": [
      "0 broadcast\n",
      "1 communiti\n",
      "2 decid\n",
      "3 licenc\n",
      "4 awar\n",
      "5 defam\n",
      "6 wit\n",
      "7 call\n",
      "8 infrastructur\n",
      "9 protect\n",
      "10 summit\n"
     ]
    }
   ],
   "source": [
    "#-- Creating a dictionary from 'processed_docs' containing # of times word appears--#\n",
    "dictionary = gensim.corpora.Dictionary(processed_docs)\n",
    "count = 0\n",
    "for k, v in dictionary.iteritems():\n",
    "    print(k, v)\n",
    "    count += 1\n",
    "    if count > 10:\n",
    "        break"
   ]
  },
  {
   "cell_type": "code",
   "execution_count": 6,
   "metadata": {},
   "outputs": [],
   "source": [
    "##-- Filter out tokens which appear in less than 15 documents, more than 50% of corpus and keeping only 100000 frequent tokens--#\n",
    "dictionary.filter_extremes(no_below=15, no_above=0.5, keep_n=100000)"
   ]
  },
  {
   "cell_type": "code",
   "execution_count": 10,
   "metadata": {},
   "outputs": [],
   "source": [
    "#-- Bag of Words--#\n",
    "\n",
    "bow_corpus = [dictionary.doc2bow(doc) for doc in processed_docs]"
   ]
  },
  {
   "cell_type": "code",
   "execution_count": 8,
   "metadata": {},
   "outputs": [
    {
     "name": "stdout",
     "output_type": "stream",
     "text": [
      "Word 76 (\"bushfir\") appears 1 time.\n",
      "Word 112 (\"help\") appears 1 time.\n",
      "Word 483 (\"rain\") appears 1 time.\n",
      "Word 4014 (\"dampen\") appears 1 time.\n"
     ]
    }
   ],
   "source": [
    "#--Preview for Sample Document --#\n",
    "bow_corpus[4310]\n",
    "bow_doc_4310 = bow_corpus[4310]\n",
    "for i in range(len(bow_doc_4310)):\n",
    "    print(\"Word {} (\\\"{}\\\") appears {} time.\".format(bow_doc_4310[i][0], \n",
    "                                               dictionary[bow_doc_4310[i][0]], \n",
    "bow_doc_4310[i][1]))\n"
   ]
  },
  {
   "cell_type": "code",
   "execution_count": 11,
   "metadata": {},
   "outputs": [
    {
     "name": "stdout",
     "output_type": "stream",
     "text": [
      "[(0, 0.5892908867507543),\n",
      " (1, 0.38929654337861147),\n",
      " (2, 0.4964985175717023),\n",
      " (3, 0.5046520327464028)]\n"
     ]
    }
   ],
   "source": [
    "#--TFIDF--#\n",
    "    \n",
    "from gensim import corpora, models\n",
    "tfidf = models.TfidfModel(bow_corpus)\n",
    "corpus_tfidf = tfidf[bow_corpus]\n",
    "from pprint import pprint\n",
    "for doc in corpus_tfidf:\n",
    "    pprint(doc)\n",
    "    break"
   ]
  },
  {
   "cell_type": "code",
   "execution_count": 12,
   "metadata": {},
   "outputs": [],
   "source": [
    "#-- Running LDA using Bag of Words -- #\n",
    "    \n",
    "lda_model = gensim.models.LdaMulticore(bow_corpus, num_topics=10, id2word=dictionary, passes=2, workers=2)\n"
   ]
  },
  {
   "cell_type": "code",
   "execution_count": 16,
   "metadata": {},
   "outputs": [
    {
     "name": "stdout",
     "output_type": "stream",
     "text": [
      "Topic: 0 Word: 0.011*\"live\" + 0.010*\"donald\" + 0.008*\"farmer\" + 0.008*\"price\" + 0.007*\"cattl\" + 0.007*\"michael\" + 0.006*\"wednesday\" + 0.006*\"mine\" + 0.006*\"dairi\" + 0.006*\"drought\"\n",
      "Topic: 1 Word: 0.014*\"news\" + 0.014*\"market\" + 0.010*\"final\" + 0.009*\"share\" + 0.008*\"australian\" + 0.008*\"open\" + 0.007*\"world\" + 0.007*\"juli\" + 0.006*\"septemb\" + 0.006*\"hill\"\n",
      "Topic: 2 Word: 0.015*\"charg\" + 0.014*\"murder\" + 0.014*\"court\" + 0.010*\"alleg\" + 0.009*\"jail\" + 0.009*\"polic\" + 0.008*\"accus\" + 0.008*\"child\" + 0.008*\"drug\" + 0.008*\"sentenc\"\n",
      "Topic: 3 Word: 0.014*\"rural\" + 0.011*\"govern\" + 0.008*\"fund\" + 0.007*\"plan\" + 0.007*\"drum\" + 0.007*\"chang\" + 0.007*\"council\" + 0.006*\"health\" + 0.006*\"budget\" + 0.005*\"nation\"\n",
      "Topic: 4 Word: 0.017*\"crash\" + 0.015*\"polic\" + 0.011*\"miss\" + 0.011*\"interview\" + 0.011*\"die\" + 0.010*\"shoot\" + 0.009*\"woman\" + 0.009*\"search\" + 0.008*\"fatal\" + 0.008*\"christma\"\n",
      "Topic: 5 Word: 0.013*\"turnbul\" + 0.009*\"plead\" + 0.008*\"octob\" + 0.008*\"monday\" + 0.008*\"john\" + 0.008*\"malcolm\" + 0.007*\"game\" + 0.007*\"guilti\" + 0.007*\"babi\" + 0.005*\"chris\"\n",
      "Topic: 6 Word: 0.010*\"royal\" + 0.010*\"weather\" + 0.010*\"elect\" + 0.009*\"commiss\" + 0.007*\"tasmania\" + 0.007*\"liber\" + 0.007*\"labor\" + 0.007*\"stori\" + 0.006*\"hobart\" + 0.006*\"parti\"\n",
      "Topic: 7 Word: 0.027*\"countri\" + 0.024*\"hour\" + 0.013*\"podcast\" + 0.010*\"sport\" + 0.009*\"abbott\" + 0.008*\"east\" + 0.008*\"bushfir\" + 0.008*\"friday\" + 0.007*\"flood\" + 0.007*\"inquest\"\n",
      "Topic: 8 Word: 0.024*\"trump\" + 0.011*\"leagu\" + 0.010*\"australia\" + 0.008*\"marriag\" + 0.007*\"rugbi\" + 0.007*\"world\" + 0.007*\"thursday\" + 0.007*\"player\" + 0.007*\"cricket\" + 0.006*\"zealand\"\n",
      "Topic: 9 Word: 0.009*\"grandstand\" + 0.009*\"kill\" + 0.008*\"strike\" + 0.008*\"korea\" + 0.007*\"novemb\" + 0.007*\"tuesday\" + 0.006*\"protest\" + 0.006*\"video\" + 0.006*\"syria\" + 0.006*\"islam\"\n"
     ]
    }
   ],
   "source": [
    "#-- Running LDA using TF-IDF --#\n",
    "\n",
    "lda_model_tfidf = gensim.models.LdaMulticore(corpus_tfidf, num_topics=10, id2word=dictionary, passes=2, workers=4)\n",
    "for idx, topic in lda_model_tfidf.print_topics(-1):\n",
    "    print('Topic: {} Word: {}'.format(idx, topic))"
   ]
  },
  {
   "cell_type": "code",
   "execution_count": 17,
   "metadata": {},
   "outputs": [
    {
     "name": "stdout",
     "output_type": "stream",
     "text": [
      "\n",
      "Score: 0.4203391373157501\t \n",
      "Topic: 0.024*\"south\" + 0.024*\"adelaid\" + 0.023*\"north\" + 0.016*\"donald\" + 0.015*\"west\" + 0.015*\"indigen\" + 0.013*\"coast\" + 0.012*\"abus\" + 0.012*\"citi\" + 0.012*\"flood\"\n",
      "\n",
      "Score: 0.22017015516757965\t \n",
      "Topic: 0.033*\"death\" + 0.018*\"turnbul\" + 0.017*\"price\" + 0.017*\"island\" + 0.014*\"rise\" + 0.013*\"forc\" + 0.013*\"royal\" + 0.013*\"claim\" + 0.012*\"drum\" + 0.011*\"commiss\"\n",
      "\n",
      "Score: 0.2193368822336197\t \n",
      "Topic: 0.037*\"trump\" + 0.023*\"australia\" + 0.016*\"win\" + 0.014*\"time\" + 0.013*\"gold\" + 0.013*\"take\" + 0.012*\"meet\" + 0.011*\"lead\" + 0.010*\"beat\" + 0.010*\"port\"\n",
      "\n",
      "Score: 0.020029688253998756\t \n",
      "Topic: 0.024*\"crash\" + 0.023*\"canberra\" + 0.019*\"hospit\" + 0.014*\"road\" + 0.013*\"die\" + 0.012*\"polit\" + 0.012*\"green\" + 0.011*\"public\" + 0.011*\"resid\" + 0.010*\"question\"\n",
      "\n",
      "Score: 0.020024804398417473\t \n",
      "Topic: 0.037*\"govern\" + 0.020*\"live\" + 0.020*\"famili\" + 0.019*\"miss\" + 0.017*\"power\" + 0.015*\"peopl\" + 0.014*\"life\" + 0.014*\"farmer\" + 0.014*\"feder\" + 0.012*\"week\"\n",
      "\n",
      "Score: 0.020022811368107796\t \n",
      "Topic: 0.025*\"say\" + 0.019*\"nation\" + 0.017*\"school\" + 0.015*\"countri\" + 0.015*\"chang\" + 0.014*\"health\" + 0.014*\"rural\" + 0.013*\"hour\" + 0.012*\"fund\" + 0.010*\"concern\"\n",
      "\n",
      "Score: 0.02002088725566864\t \n",
      "Topic: 0.024*\"warn\" + 0.022*\"test\" + 0.014*\"victoria\" + 0.014*\"driver\" + 0.013*\"news\" + 0.012*\"victorian\" + 0.011*\"street\" + 0.011*\"violenc\" + 0.011*\"liber\" + 0.010*\"aborigin\"\n",
      "\n",
      "Score: 0.020018545910716057\t \n",
      "Topic: 0.023*\"kill\" + 0.017*\"elect\" + 0.017*\"say\" + 0.015*\"attack\" + 0.015*\"state\" + 0.014*\"china\" + 0.013*\"children\" + 0.013*\"deal\" + 0.011*\"talk\" + 0.010*\"leader\"\n",
      "\n",
      "Score: 0.020018545910716057\t \n",
      "Topic: 0.019*\"perth\" + 0.017*\"melbourn\" + 0.015*\"sydney\" + 0.015*\"open\" + 0.015*\"world\" + 0.014*\"year\" + 0.014*\"tasmanian\" + 0.014*\"tasmania\" + 0.012*\"record\" + 0.012*\"australian\"\n",
      "\n",
      "Score: 0.020018545910716057\t \n",
      "Topic: 0.049*\"polic\" + 0.030*\"charg\" + 0.028*\"court\" + 0.025*\"queensland\" + 0.022*\"murder\" + 0.019*\"hous\" + 0.019*\"woman\" + 0.018*\"face\" + 0.016*\"alleg\" + 0.015*\"interview\"\n",
      "\n",
      "Score: 0.5868909955024719\t \n",
      "Topic: 0.027*\"countri\" + 0.024*\"hour\" + 0.013*\"podcast\" + 0.010*\"sport\" + 0.009*\"abbott\" + 0.008*\"east\" + 0.008*\"bushfir\" + 0.008*\"friday\" + 0.007*\"flood\" + 0.007*\"inquest\"\n",
      "\n",
      "Score: 0.25303784012794495\t \n",
      "Topic: 0.013*\"turnbul\" + 0.009*\"plead\" + 0.008*\"octob\" + 0.008*\"monday\" + 0.008*\"john\" + 0.008*\"malcolm\" + 0.007*\"game\" + 0.007*\"guilti\" + 0.007*\"babi\" + 0.005*\"chris\"\n",
      "\n",
      "Score: 0.020011011511087418\t \n",
      "Topic: 0.011*\"live\" + 0.010*\"donald\" + 0.008*\"farmer\" + 0.008*\"price\" + 0.007*\"cattl\" + 0.007*\"michael\" + 0.006*\"wednesday\" + 0.006*\"mine\" + 0.006*\"dairi\" + 0.006*\"drought\"\n",
      "\n",
      "Score: 0.020009906962513924\t \n",
      "Topic: 0.014*\"rural\" + 0.011*\"govern\" + 0.008*\"fund\" + 0.007*\"plan\" + 0.007*\"drum\" + 0.007*\"chang\" + 0.007*\"council\" + 0.006*\"health\" + 0.006*\"budget\" + 0.005*\"nation\"\n",
      "\n",
      "Score: 0.020009148865938187\t \n",
      "Topic: 0.017*\"crash\" + 0.015*\"polic\" + 0.011*\"miss\" + 0.011*\"interview\" + 0.011*\"die\" + 0.010*\"shoot\" + 0.009*\"woman\" + 0.009*\"search\" + 0.008*\"fatal\" + 0.008*\"christma\"\n",
      "\n",
      "Score: 0.020008746534585953\t \n",
      "Topic: 0.010*\"royal\" + 0.010*\"weather\" + 0.010*\"elect\" + 0.009*\"commiss\" + 0.007*\"tasmania\" + 0.007*\"liber\" + 0.007*\"labor\" + 0.007*\"stori\" + 0.006*\"hobart\" + 0.006*\"parti\"\n",
      "\n",
      "Score: 0.020008442923426628\t \n",
      "Topic: 0.024*\"trump\" + 0.011*\"leagu\" + 0.010*\"australia\" + 0.008*\"marriag\" + 0.007*\"rugbi\" + 0.007*\"world\" + 0.007*\"thursday\" + 0.007*\"player\" + 0.007*\"cricket\" + 0.006*\"zealand\"\n",
      "\n",
      "Score: 0.020008286461234093\t \n",
      "Topic: 0.015*\"charg\" + 0.014*\"murder\" + 0.014*\"court\" + 0.010*\"alleg\" + 0.009*\"jail\" + 0.009*\"polic\" + 0.008*\"accus\" + 0.008*\"child\" + 0.008*\"drug\" + 0.008*\"sentenc\"\n",
      "\n",
      "Score: 0.0200079083442688\t \n",
      "Topic: 0.009*\"grandstand\" + 0.009*\"kill\" + 0.008*\"strike\" + 0.008*\"korea\" + 0.007*\"novemb\" + 0.007*\"tuesday\" + 0.006*\"protest\" + 0.006*\"video\" + 0.006*\"syria\" + 0.006*\"islam\"\n",
      "\n",
      "Score: 0.02000773511826992\t \n",
      "Topic: 0.014*\"news\" + 0.014*\"market\" + 0.010*\"final\" + 0.009*\"share\" + 0.008*\"australian\" + 0.008*\"open\" + 0.007*\"world\" + 0.007*\"juli\" + 0.006*\"septemb\" + 0.006*\"hill\"\n"
     ]
    }
   ],
   "source": [
    "#-- Topic of our sample document 4310 --#\n",
    "    \n",
    "processed_docs[4310]\n",
    "\n",
    "for index, score in sorted(lda_model[bow_corpus[4310]], key=lambda tup: -1*tup[1]):\n",
    "    print(\"\\nScore: {}\\t \\nTopic: {}\".format(score, lda_model.print_topic(index, 10)))\n",
    "\n",
    "#-- Peformance evaluation by classifying example document using LDA TF-IDF model--#\n",
    "\n",
    "for index, score in sorted(lda_model_tfidf[bow_corpus[4310]], key=lambda tup: -1*tup[1]):\n",
    "    print(\"\\nScore: {}\\t \\nTopic: {}\".format(score, lda_model_tfidf.print_topic(index, 10)))\n",
    "    "
   ]
  },
  {
   "cell_type": "code",
   "execution_count": 18,
   "metadata": {},
   "outputs": [
    {
     "name": "stdout",
     "output_type": "stream",
     "text": [
      "Topic: 0 \n",
      "Words: 0.023*\"kill\" + 0.017*\"elect\" + 0.017*\"say\" + 0.015*\"attack\" + 0.015*\"state\" + 0.014*\"china\" + 0.013*\"children\" + 0.013*\"deal\" + 0.011*\"talk\" + 0.010*\"leader\"\n",
      "Topic: 1 \n",
      "Words: 0.037*\"trump\" + 0.023*\"australia\" + 0.016*\"win\" + 0.014*\"time\" + 0.013*\"gold\" + 0.013*\"take\" + 0.012*\"meet\" + 0.011*\"lead\" + 0.010*\"beat\" + 0.010*\"port\"\n",
      "Topic: 2 \n",
      "Words: 0.024*\"crash\" + 0.023*\"canberra\" + 0.019*\"hospit\" + 0.014*\"road\" + 0.013*\"die\" + 0.012*\"polit\" + 0.012*\"green\" + 0.011*\"public\" + 0.011*\"resid\" + 0.010*\"question\"\n",
      "Topic: 3 \n",
      "Words: 0.019*\"perth\" + 0.017*\"melbourn\" + 0.015*\"sydney\" + 0.015*\"open\" + 0.015*\"world\" + 0.014*\"year\" + 0.014*\"tasmanian\" + 0.014*\"tasmania\" + 0.012*\"record\" + 0.012*\"australian\"\n",
      "Topic: 4 \n",
      "Words: 0.024*\"warn\" + 0.022*\"test\" + 0.014*\"victoria\" + 0.014*\"driver\" + 0.013*\"news\" + 0.012*\"victorian\" + 0.011*\"street\" + 0.011*\"violenc\" + 0.011*\"liber\" + 0.010*\"aborigin\"\n",
      "Topic: 5 \n",
      "Words: 0.049*\"polic\" + 0.030*\"charg\" + 0.028*\"court\" + 0.025*\"queensland\" + 0.022*\"murder\" + 0.019*\"hous\" + 0.019*\"woman\" + 0.018*\"face\" + 0.016*\"alleg\" + 0.015*\"interview\"\n",
      "Topic: 6 \n",
      "Words: 0.025*\"say\" + 0.019*\"nation\" + 0.017*\"school\" + 0.015*\"countri\" + 0.015*\"chang\" + 0.014*\"health\" + 0.014*\"rural\" + 0.013*\"hour\" + 0.012*\"fund\" + 0.010*\"concern\"\n",
      "Topic: 7 \n",
      "Words: 0.024*\"south\" + 0.024*\"adelaid\" + 0.023*\"north\" + 0.016*\"donald\" + 0.015*\"west\" + 0.015*\"indigen\" + 0.013*\"coast\" + 0.012*\"abus\" + 0.012*\"citi\" + 0.012*\"flood\"\n",
      "Topic: 8 \n",
      "Words: 0.033*\"death\" + 0.018*\"turnbul\" + 0.017*\"price\" + 0.017*\"island\" + 0.014*\"rise\" + 0.013*\"forc\" + 0.013*\"royal\" + 0.013*\"claim\" + 0.012*\"drum\" + 0.011*\"commiss\"\n",
      "Topic: 9 \n",
      "Words: 0.037*\"govern\" + 0.020*\"live\" + 0.020*\"famili\" + 0.019*\"miss\" + 0.017*\"power\" + 0.015*\"peopl\" + 0.014*\"life\" + 0.014*\"farmer\" + 0.014*\"feder\" + 0.012*\"week\"\n"
     ]
    }
   ],
   "source": [
    "#-- Exploring words in each topic --#\n",
    "\n",
    "for idx, topic in lda_model.print_topics(-1):\n",
    "    print('Topic: {} \\nWords: {}'.format(idx, topic))\n"
   ]
  },
  {
   "cell_type": "code",
   "execution_count": 19,
   "metadata": {},
   "outputs": [
    {
     "name": "stdout",
     "output_type": "stream",
     "text": [
      "Score: 0.28310033679008484\t Topic: 0.023*\"kill\" + 0.017*\"elect\" + 0.017*\"say\" + 0.015*\"attack\" + 0.015*\"state\"\n",
      "Score: 0.2266373634338379\t Topic: 0.025*\"say\" + 0.019*\"nation\" + 0.017*\"school\" + 0.015*\"countri\" + 0.015*\"chang\"\n",
      "Score: 0.20682455599308014\t Topic: 0.024*\"south\" + 0.024*\"adelaid\" + 0.023*\"north\" + 0.016*\"donald\" + 0.015*\"west\"\n",
      "Score: 0.18335382640361786\t Topic: 0.024*\"crash\" + 0.023*\"canberra\" + 0.019*\"hospit\" + 0.014*\"road\" + 0.013*\"die\"\n",
      "Score: 0.016681797802448273\t Topic: 0.037*\"govern\" + 0.020*\"live\" + 0.020*\"famili\" + 0.019*\"miss\" + 0.017*\"power\"\n",
      "Score: 0.016681162640452385\t Topic: 0.033*\"death\" + 0.018*\"turnbul\" + 0.017*\"price\" + 0.017*\"island\" + 0.014*\"rise\"\n",
      "Score: 0.016680501401424408\t Topic: 0.037*\"trump\" + 0.023*\"australia\" + 0.016*\"win\" + 0.014*\"time\" + 0.013*\"gold\"\n",
      "Score: 0.016680138185620308\t Topic: 0.019*\"perth\" + 0.017*\"melbourn\" + 0.015*\"sydney\" + 0.015*\"open\" + 0.015*\"world\"\n",
      "Score: 0.016680138185620308\t Topic: 0.024*\"warn\" + 0.022*\"test\" + 0.014*\"victoria\" + 0.014*\"driver\" + 0.013*\"news\"\n",
      "Score: 0.016680138185620308\t Topic: 0.049*\"polic\" + 0.030*\"charg\" + 0.028*\"court\" + 0.025*\"queensland\" + 0.022*\"murder\"\n"
     ]
    }
   ],
   "source": [
    "#--Testing model on unseen document--#\n",
    "\n",
    "unseen_document = 'How a Pentagon deal became an identity crisis for Google'\n",
    "bow_vector = dictionary.doc2bow(preprocess(unseen_document))\n",
    "for index, score in sorted(lda_model[bow_vector], key=lambda tup: -1*tup[1]):\n",
    "    print(\"Score: {}\\t Topic: {}\".format(score, lda_model.print_topic(index, 5)))\n"
   ]
  },
  {
   "cell_type": "code",
   "execution_count": null,
   "metadata": {},
   "outputs": [],
   "source": []
  }
 ],
 "metadata": {
  "kernelspec": {
   "display_name": "Python 3",
   "language": "python",
   "name": "python3"
  },
  "language_info": {
   "codemirror_mode": {
    "name": "ipython",
    "version": 3
   },
   "file_extension": ".py",
   "mimetype": "text/x-python",
   "name": "python",
   "nbconvert_exporter": "python",
   "pygments_lexer": "ipython3",
   "version": "3.7.1"
  }
 },
 "nbformat": 4,
 "nbformat_minor": 2
}
