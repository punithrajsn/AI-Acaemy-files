{
 "cells": [
  {
   "cell_type": "code",
   "execution_count": 1,
   "metadata": {},
   "outputs": [],
   "source": [
    "#----Topic Modelling --- #\n",
    "\n",
    "#------------------------------------ Topic Modelling ---------------------------#\n",
    "doc1 = \"Sugar is bad to consume. My sister likes to have sugar, but not my father.\"\n",
    "doc2 = \"My father spends a lot of time driving my sister around to dance practice.\"\n",
    "doc3 = \"Doctors suggest that driving may cause increased stress and blood pressure.\"\n",
    "doc4 = \"Sometimes I feel pressure to perform well at school, but my father never seems to drive my sister to do better.\"\n",
    "doc5 = \"Health experts say that Sugar is not good for your lifestyle.\""
   ]
  },
  {
   "cell_type": "code",
   "execution_count": 2,
   "metadata": {},
   "outputs": [
    {
     "name": "stdout",
     "output_type": "stream",
     "text": [
      "[['sugar', 'bad', 'consume', 'sister', 'like', 'sugar', 'father'], ['father', 'spends', 'lot', 'time', 'driving', 'sister', 'around', 'dance', 'practice'], ['doctor', 'suggest', 'driving', 'may', 'cause', 'increased', 'stress', 'blood', 'pressure'], ['sometimes', 'feel', 'pressure', 'perform', 'well', 'school', 'father', 'never', 'seems', 'drive', 'sister', 'better'], ['health', 'expert', 'say', 'sugar', 'good', 'lifestyle']]\n"
     ]
    }
   ],
   "source": [
    "# compile documents\n",
    "doc_complete = [doc1, doc2, doc3, doc4, doc5]\n",
    "from nltk.corpus import stopwords \n",
    "from nltk.stem.wordnet import WordNetLemmatizer\n",
    "import string\n",
    "stop = set(stopwords.words('english'))\n",
    "exclude = set(string.punctuation) \n",
    "lemma = WordNetLemmatizer()\n",
    "def clean(doc):\n",
    "    stop_free = \" \".join([i for i in doc.lower().split() if i not in stop])\n",
    "    punc_free = ''.join(ch for ch in stop_free if ch not in exclude)\n",
    "    normalized = \" \".join(lemma.lemmatize(word) for word in punc_free.split())\n",
    "    return normalized\n",
    "\n",
    "doc_clean = [clean(doc).split() for doc in doc_complete] \n",
    "print(doc_clean)"
   ]
  },
  {
   "cell_type": "code",
   "execution_count": 4,
   "metadata": {},
   "outputs": [],
   "source": [
    "# Importing Gensim\n",
    "import gensim\n",
    "from gensim import corpora"
   ]
  },
  {
   "cell_type": "code",
   "execution_count": 5,
   "metadata": {},
   "outputs": [
    {
     "name": "stdout",
     "output_type": "stream",
     "text": [
      "0 bad\n",
      "1 consume\n",
      "2 father\n",
      "3 like\n",
      "4 sister\n",
      "5 sugar\n",
      "6 around\n",
      "7 dance\n",
      "8 driving\n",
      "9 lot\n",
      "10 practice\n"
     ]
    }
   ],
   "source": [
    "# Creating the term dictionary of our corpus, where every unique term is assigned an index. \n",
    "\n",
    "dictionary = corpora.Dictionary(doc_clean)\n",
    "count = 0\n",
    "for k, v in dictionary.iteritems():\n",
    "    print(k, v)\n",
    "    count += 1\n",
    "    if count > 10:\n",
    "        break\n",
    "    \n",
    "##--Not applicable here but, for larger datasets if filtering is required---#\n",
    "#dictionary.filter_extremes(no_below=15, no_above=0.5, keep_n=100000)"
   ]
  },
  {
   "cell_type": "code",
   "execution_count": 6,
   "metadata": {},
   "outputs": [
    {
     "name": "stdout",
     "output_type": "stream",
     "text": [
      "Word 5 (\"sugar\") appears 1 time.\n",
      "Word 30 (\"expert\") appears 1 time.\n",
      "Word 31 (\"good\") appears 1 time.\n",
      "Word 32 (\"health\") appears 1 time.\n",
      "Word 33 (\"lifestyle\") appears 1 time.\n"
     ]
    }
   ],
   "source": [
    "# Converting list of documents (corpus) into Document Term Matrix using dictionary prepared above.\n",
    "doc_term_matrix = [dictionary.doc2bow(doc) for doc in doc_clean]\n",
    "doc_term_matrix_4=doc_term_matrix[4]\n",
    "\n",
    "for i in range(len(doc_term_matrix)):\n",
    "    print(\"Word {} (\\\"{}\\\") appears {} time.\".format(doc_term_matrix_4[i][0], \n",
    "                                               dictionary[doc_term_matrix_4[i][0]], \n",
    "doc_term_matrix_4[i][1]))"
   ]
  },
  {
   "cell_type": "code",
   "execution_count": 7,
   "metadata": {},
   "outputs": [
    {
     "name": "stdout",
     "output_type": "stream",
     "text": [
      "[(0, 0.4715096067582428),\n",
      " (1, 0.4715096067582428),\n",
      " (2, 0.14965422842541531),\n",
      " (3, 0.4715096067582428),\n",
      " (4, 0.14965422842541531),\n",
      " (5, 0.5368829444421276)]\n"
     ]
    }
   ],
   "source": [
    "#--- TF-IDF---#\n",
    "    \n",
    "from gensim import corpora, models\n",
    "tfidf = models.TfidfModel(doc_term_matrix)\n",
    "corpus_tfidf = tfidf[doc_term_matrix]\n",
    "from pprint import pprint\n",
    "for doc in corpus_tfidf:\n",
    "    pprint(doc)\n",
    "    break"
   ]
  },
  {
   "cell_type": "code",
   "execution_count": 8,
   "metadata": {},
   "outputs": [],
   "source": [
    "# Creating the object for LDA model using gensim library\n",
    "Lda = gensim.models.ldamodel.LdaModel"
   ]
  },
  {
   "cell_type": "code",
   "execution_count": 23,
   "metadata": {},
   "outputs": [
    {
     "name": "stdout",
     "output_type": "stream",
     "text": [
      "[(0, '0.066*\"pressure\" + 0.063*\"driving\" + 0.063*\"blood\"'), (1, '0.075*\"sugar\" + 0.075*\"expert\" + 0.075*\"lifestyle\"'), (2, '0.084*\"sister\" + 0.084*\"father\" + 0.059*\"sugar\"')]\n"
     ]
    }
   ],
   "source": [
    "# Running and Training LDA model on the document term matrix.\n",
    "ldamodel = Lda(doc_term_matrix, num_topics=3, id2word = dictionary, passes=2)\n",
    "print(ldamodel.print_topics(num_topics=3, num_words=3))"
   ]
  },
  {
   "cell_type": "code",
   "execution_count": 22,
   "metadata": {},
   "outputs": [
    {
     "name": "stdout",
     "output_type": "stream",
     "text": [
      "Topic: 0 \n",
      "Words: 0.064*\"father\" + 0.064*\"time\" + 0.064*\"sister\" + 0.064*\"driving\" + 0.064*\"practice\" + 0.064*\"around\" + 0.064*\"spends\" + 0.063*\"dance\" + 0.063*\"lot\" + 0.017*\"sugar\"\n",
      "Topic: 1 \n",
      "Words: 0.063*\"sugar\" + 0.062*\"lifestyle\" + 0.062*\"expert\" + 0.062*\"health\" + 0.062*\"good\" + 0.062*\"say\" + 0.029*\"pressure\" + 0.027*\"seems\" + 0.027*\"feel\" + 0.026*\"father\"\n",
      "Topic: 2 \n",
      "Words: 0.064*\"sugar\" + 0.059*\"sister\" + 0.058*\"father\" + 0.057*\"pressure\" + 0.037*\"like\" + 0.037*\"consume\" + 0.037*\"bad\" + 0.034*\"stress\" + 0.034*\"driving\" + 0.034*\"may\"\n"
     ]
    }
   ],
   "source": [
    "for idx, topic in ldamodel.print_topics(-1):\n",
    "    print('Topic: {} \\nWords: {}'.format(idx, topic))"
   ]
  },
  {
   "cell_type": "code",
   "execution_count": 24,
   "metadata": {},
   "outputs": [
    {
     "name": "stdout",
     "output_type": "stream",
     "text": [
      "Topic: 0 Word: 0.047*\"doctor\" + 0.047*\"stress\" + 0.047*\"suggest\" + 0.047*\"increased\" + 0.047*\"may\" + 0.047*\"cause\" + 0.046*\"blood\" + 0.037*\"pressure\" + 0.037*\"driving\" + 0.023*\"sugar\"\n",
      "Topic: 1 Word: 0.051*\"sugar\" + 0.046*\"bad\" + 0.046*\"like\" + 0.046*\"consume\" + 0.038*\"well\" + 0.038*\"sometimes\" + 0.038*\"feel\" + 0.038*\"never\" + 0.038*\"seems\" + 0.038*\"drive\"\n",
      "Topic: 2 Word: 0.045*\"good\" + 0.045*\"health\" + 0.045*\"say\" + 0.045*\"expert\" + 0.045*\"lifestyle\" + 0.043*\"time\" + 0.043*\"around\" + 0.042*\"spends\" + 0.042*\"dance\" + 0.042*\"practice\"\n"
     ]
    }
   ],
   "source": [
    "#-- Running LDA using TF-IDF -- #\n",
    "    \n",
    "lda_model_tfidf = gensim.models.LdaMulticore(corpus_tfidf, num_topics=3, id2word=dictionary, passes=2, workers=4)\n",
    "for idx, topic in lda_model_tfidf.print_topics(-1):\n",
    "    print('Topic: {} Word: {}'.format(idx, topic))"
   ]
  },
  {
   "cell_type": "code",
   "execution_count": null,
   "metadata": {},
   "outputs": [],
   "source": []
  }
 ],
 "metadata": {
  "kernelspec": {
   "display_name": "Python 3",
   "language": "python",
   "name": "python3"
  },
  "language_info": {
   "codemirror_mode": {
    "name": "ipython",
    "version": 3
   },
   "file_extension": ".py",
   "mimetype": "text/x-python",
   "name": "python",
   "nbconvert_exporter": "python",
   "pygments_lexer": "ipython3",
   "version": "3.7.1"
  }
 },
 "nbformat": 4,
 "nbformat_minor": 2
}
