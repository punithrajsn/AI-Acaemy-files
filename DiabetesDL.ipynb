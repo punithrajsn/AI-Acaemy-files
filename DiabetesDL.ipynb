{
 "cells": [
  {
   "cell_type": "code",
   "execution_count": 1,
   "metadata": {
    "collapsed": true
   },
   "outputs": [],
   "source": [
    "import numpy as np\n",
    "import matplotlib.pyplot as plt\n",
    "import pandas as pd"
   ]
  },
  {
   "cell_type": "code",
   "execution_count": 2,
   "metadata": {
    "collapsed": true
   },
   "outputs": [],
   "source": [
    "from sklearn.model_selection import train_test_split"
   ]
  },
  {
   "cell_type": "code",
   "execution_count": 3,
   "metadata": {},
   "outputs": [
    {
     "name": "stderr",
     "output_type": "stream",
     "text": [
      "C:\\ProgramData\\Anaconda3\\lib\\site-packages\\h5py\\__init__.py:34: FutureWarning: Conversion of the second argument of issubdtype from `float` to `np.floating` is deprecated. In future, it will be treated as `np.float64 == np.dtype(float).type`.\n",
      "  from ._conv import register_converters as _register_converters\n",
      "Using TensorFlow backend.\n"
     ]
    }
   ],
   "source": [
    "from keras.models import Sequential"
   ]
  },
  {
   "cell_type": "code",
   "execution_count": 4,
   "metadata": {
    "collapsed": true
   },
   "outputs": [],
   "source": [
    "from keras.layers import Dense,Activation"
   ]
  },
  {
   "cell_type": "code",
   "execution_count": 5,
   "metadata": {
    "collapsed": true
   },
   "outputs": [],
   "source": [
    "from keras import optimizers"
   ]
  },
  {
   "cell_type": "code",
   "execution_count": 12,
   "metadata": {},
   "outputs": [
    {
     "data": {
      "text/html": [
       "<div>\n",
       "<style>\n",
       "    .dataframe thead tr:only-child th {\n",
       "        text-align: right;\n",
       "    }\n",
       "\n",
       "    .dataframe thead th {\n",
       "        text-align: left;\n",
       "    }\n",
       "\n",
       "    .dataframe tbody tr th {\n",
       "        vertical-align: top;\n",
       "    }\n",
       "</style>\n",
       "<table border=\"1\" class=\"dataframe\">\n",
       "  <thead>\n",
       "    <tr style=\"text-align: right;\">\n",
       "      <th></th>\n",
       "      <th>Pregnancies</th>\n",
       "      <th>Glucose</th>\n",
       "      <th>BloodPressure</th>\n",
       "      <th>SkinThickness</th>\n",
       "      <th>Insulin</th>\n",
       "      <th>BMI</th>\n",
       "      <th>DiabetesPedigreeFunction</th>\n",
       "      <th>Age</th>\n",
       "      <th>Outcome</th>\n",
       "    </tr>\n",
       "  </thead>\n",
       "  <tbody>\n",
       "    <tr>\n",
       "      <th>0</th>\n",
       "      <td>6</td>\n",
       "      <td>148</td>\n",
       "      <td>72</td>\n",
       "      <td>35</td>\n",
       "      <td>0</td>\n",
       "      <td>33.6</td>\n",
       "      <td>0.627</td>\n",
       "      <td>50</td>\n",
       "      <td>1</td>\n",
       "    </tr>\n",
       "    <tr>\n",
       "      <th>1</th>\n",
       "      <td>1</td>\n",
       "      <td>85</td>\n",
       "      <td>66</td>\n",
       "      <td>29</td>\n",
       "      <td>0</td>\n",
       "      <td>26.6</td>\n",
       "      <td>0.351</td>\n",
       "      <td>31</td>\n",
       "      <td>0</td>\n",
       "    </tr>\n",
       "    <tr>\n",
       "      <th>2</th>\n",
       "      <td>8</td>\n",
       "      <td>183</td>\n",
       "      <td>64</td>\n",
       "      <td>0</td>\n",
       "      <td>0</td>\n",
       "      <td>23.3</td>\n",
       "      <td>0.672</td>\n",
       "      <td>32</td>\n",
       "      <td>1</td>\n",
       "    </tr>\n",
       "    <tr>\n",
       "      <th>3</th>\n",
       "      <td>1</td>\n",
       "      <td>89</td>\n",
       "      <td>66</td>\n",
       "      <td>23</td>\n",
       "      <td>94</td>\n",
       "      <td>28.1</td>\n",
       "      <td>0.167</td>\n",
       "      <td>21</td>\n",
       "      <td>0</td>\n",
       "    </tr>\n",
       "    <tr>\n",
       "      <th>4</th>\n",
       "      <td>0</td>\n",
       "      <td>137</td>\n",
       "      <td>40</td>\n",
       "      <td>35</td>\n",
       "      <td>168</td>\n",
       "      <td>43.1</td>\n",
       "      <td>2.288</td>\n",
       "      <td>33</td>\n",
       "      <td>1</td>\n",
       "    </tr>\n",
       "  </tbody>\n",
       "</table>\n",
       "</div>"
      ],
      "text/plain": [
       "   Pregnancies  Glucose  BloodPressure  SkinThickness  Insulin   BMI  \\\n",
       "0            6      148             72             35        0  33.6   \n",
       "1            1       85             66             29        0  26.6   \n",
       "2            8      183             64              0        0  23.3   \n",
       "3            1       89             66             23       94  28.1   \n",
       "4            0      137             40             35      168  43.1   \n",
       "\n",
       "   DiabetesPedigreeFunction  Age  Outcome  \n",
       "0                     0.627   50        1  \n",
       "1                     0.351   31        0  \n",
       "2                     0.672   32        1  \n",
       "3                     0.167   21        0  \n",
       "4                     2.288   33        1  "
      ]
     },
     "execution_count": 12,
     "metadata": {},
     "output_type": "execute_result"
    }
   ],
   "source": [
    "data = pd.read_csv(\"diabetes.csv\")\n",
    "data.head()"
   ]
  },
  {
   "cell_type": "code",
   "execution_count": 19,
   "metadata": {},
   "outputs": [],
   "source": [
    "data.columns= ['pregnancy','glucose','bp','skin','insulin','bmi','pedigree','age','class']\n",
    "x=data.iloc[:,0:8] \n",
    "y=data['class']"
   ]
  },
  {
   "cell_type": "code",
   "execution_count": 20,
   "metadata": {},
   "outputs": [],
   "source": [
    "np.random_seed=999\n",
    "[x_train,x_test,y_train,y_test] = train_test_split(x,y,test_size = 0.3, random_state = 999)"
   ]
  },
  {
   "cell_type": "code",
   "execution_count": 27,
   "metadata": {},
   "outputs": [],
   "source": [
    "#Define the architecture\n",
    "\n",
    "model = Sequential()\n",
    "model.add(Dense(4,activation='relu',input_dim=8)) #Input layer"
   ]
  },
  {
   "cell_type": "code",
   "execution_count": 28,
   "metadata": {
    "collapsed": true
   },
   "outputs": [],
   "source": [
    "model.add(Dense(6,activation='relu')) #Hidden layer\n",
    "model.add(Dense(1,activation='sigmoid')) #Linear Regression Output layer"
   ]
  },
  {
   "cell_type": "code",
   "execution_count": 29,
   "metadata": {},
   "outputs": [
    {
     "name": "stdout",
     "output_type": "stream",
     "text": [
      "_________________________________________________________________\n",
      "Layer (type)                 Output Shape              Param #   \n",
      "=================================================================\n",
      "dense_5 (Dense)              (None, 4)                 36        \n",
      "_________________________________________________________________\n",
      "dense_6 (Dense)              (None, 6)                 30        \n",
      "_________________________________________________________________\n",
      "dense_7 (Dense)              (None, 1)                 7         \n",
      "=================================================================\n",
      "Total params: 73\n",
      "Trainable params: 73\n",
      "Non-trainable params: 0\n",
      "_________________________________________________________________\n"
     ]
    }
   ],
   "source": [
    "model.summary()"
   ]
  },
  {
   "cell_type": "code",
   "execution_count": 30,
   "metadata": {
    "collapsed": true
   },
   "outputs": [],
   "source": [
    "#compile the model\n",
    "model.compile(loss='binary_crossentropy',optimizer='adam',metrics=['accuracy'])"
   ]
  },
  {
   "cell_type": "code",
   "execution_count": 37,
   "metadata": {},
   "outputs": [
    {
     "name": "stdout",
     "output_type": "stream",
     "text": [
      "Epoch 1/100\n",
      "537/537 [==============================] - 0s 96us/step - loss: 0.4887 - acc: 0.7505\n",
      "Epoch 2/100\n",
      "537/537 [==============================] - 0s 97us/step - loss: 0.4705 - acc: 0.7616\n",
      "Epoch 3/100\n",
      "537/537 [==============================] - 0s 106us/step - loss: 0.4691 - acc: 0.7579\n",
      "Epoch 4/100\n",
      "537/537 [==============================] - 0s 82us/step - loss: 0.4748 - acc: 0.7598\n",
      "Epoch 5/100\n",
      "537/537 [==============================] - 0s 90us/step - loss: 0.4765 - acc: 0.7616\n",
      "Epoch 6/100\n",
      "537/537 [==============================] - 0s 91us/step - loss: 0.4659 - acc: 0.7914\n",
      "Epoch 7/100\n",
      "537/537 [==============================] - 0s 80us/step - loss: 0.4688 - acc: 0.7691\n",
      "Epoch 8/100\n",
      "537/537 [==============================] - 0s 93us/step - loss: 0.4644 - acc: 0.7728\n",
      "Epoch 9/100\n",
      "537/537 [==============================] - 0s 95us/step - loss: 0.4673 - acc: 0.7654\n",
      "Epoch 10/100\n",
      "537/537 [==============================] - 0s 93us/step - loss: 0.4701 - acc: 0.7635\n",
      "Epoch 11/100\n",
      "537/537 [==============================] - 0s 93us/step - loss: 0.4777 - acc: 0.7579\n",
      "Epoch 12/100\n",
      "537/537 [==============================] - 0s 80us/step - loss: 0.4664 - acc: 0.7747\n",
      "Epoch 13/100\n",
      "537/537 [==============================] - 0s 81us/step - loss: 0.4829 - acc: 0.7691\n",
      "Epoch 14/100\n",
      "537/537 [==============================] - 0s 89us/step - loss: 0.4825 - acc: 0.7672\n",
      "Epoch 15/100\n",
      "537/537 [==============================] - 0s 82us/step - loss: 0.4758 - acc: 0.7654\n",
      "Epoch 16/100\n",
      "537/537 [==============================] - 0s 95us/step - loss: 0.4804 - acc: 0.7654\n",
      "Epoch 17/100\n",
      "537/537 [==============================] - 0s 97us/step - loss: 0.4727 - acc: 0.7635\n",
      "Epoch 18/100\n",
      "537/537 [==============================] - 0s 88us/step - loss: 0.4694 - acc: 0.7784\n",
      "Epoch 19/100\n",
      "537/537 [==============================] - 0s 81us/step - loss: 0.4703 - acc: 0.7709\n",
      "Epoch 20/100\n",
      "537/537 [==============================] - 0s 93us/step - loss: 0.4798 - acc: 0.7579\n",
      "Epoch 21/100\n",
      "537/537 [==============================] - 0s 93us/step - loss: 0.4752 - acc: 0.7654\n",
      "Epoch 22/100\n",
      "537/537 [==============================] - 0s 95us/step - loss: 0.4688 - acc: 0.7803\n",
      "Epoch 23/100\n",
      "537/537 [==============================] - 0s 97us/step - loss: 0.4710 - acc: 0.7616\n",
      "Epoch 24/100\n",
      "537/537 [==============================] - 0s 91us/step - loss: 0.4707 - acc: 0.7616\n",
      "Epoch 25/100\n",
      "537/537 [==============================] - 0s 88us/step - loss: 0.4799 - acc: 0.7691\n",
      "Epoch 26/100\n",
      "537/537 [==============================] - 0s 95us/step - loss: 0.4635 - acc: 0.7747\n",
      "Epoch 27/100\n",
      "537/537 [==============================] - 0s 89us/step - loss: 0.4668 - acc: 0.7728\n",
      "Epoch 28/100\n",
      "537/537 [==============================] - 0s 88us/step - loss: 0.4690 - acc: 0.7654\n",
      "Epoch 29/100\n",
      "537/537 [==============================] - 0s 84us/step - loss: 0.4736 - acc: 0.7598\n",
      "Epoch 30/100\n",
      "537/537 [==============================] - 0s 86us/step - loss: 0.4722 - acc: 0.7616\n",
      "Epoch 31/100\n",
      "537/537 [==============================] - 0s 84us/step - loss: 0.4661 - acc: 0.7821\n",
      "Epoch 32/100\n",
      "537/537 [==============================] - 0s 86us/step - loss: 0.4678 - acc: 0.7709\n",
      "Epoch 33/100\n",
      "537/537 [==============================] - 0s 82us/step - loss: 0.4679 - acc: 0.7747\n",
      "Epoch 34/100\n",
      "537/537 [==============================] - 0s 95us/step - loss: 0.4615 - acc: 0.7821\n",
      "Epoch 35/100\n",
      "537/537 [==============================] - 0s 93us/step - loss: 0.4742 - acc: 0.7598\n",
      "Epoch 36/100\n",
      "537/537 [==============================] - 0s 103us/step - loss: 0.4629 - acc: 0.7803\n",
      "Epoch 37/100\n",
      "537/537 [==============================] - 0s 84us/step - loss: 0.4687 - acc: 0.7654\n",
      "Epoch 38/100\n",
      "537/537 [==============================] - 0s 86us/step - loss: 0.4635 - acc: 0.7784\n",
      "Epoch 39/100\n",
      "537/537 [==============================] - 0s 95us/step - loss: 0.4666 - acc: 0.7709\n",
      "Epoch 40/100\n",
      "537/537 [==============================] - 0s 116us/step - loss: 0.4687 - acc: 0.7691\n",
      "Epoch 41/100\n",
      "537/537 [==============================] - 0s 125us/step - loss: 0.4723 - acc: 0.7616\n",
      "Epoch 42/100\n",
      "537/537 [==============================] - 0s 119us/step - loss: 0.4658 - acc: 0.7691\n",
      "Epoch 43/100\n",
      "537/537 [==============================] - 0s 121us/step - loss: 0.4624 - acc: 0.7784\n",
      "Epoch 44/100\n",
      "537/537 [==============================] - 0s 121us/step - loss: 0.4652 - acc: 0.7784\n",
      "Epoch 45/100\n",
      "537/537 [==============================] - 0s 97us/step - loss: 0.4623 - acc: 0.7672\n",
      "Epoch 46/100\n",
      "537/537 [==============================] - 0s 86us/step - loss: 0.4668 - acc: 0.7747\n",
      "Epoch 47/100\n",
      "537/537 [==============================] - 0s 84us/step - loss: 0.4653 - acc: 0.7765\n",
      "Epoch 48/100\n",
      "537/537 [==============================] - 0s 93us/step - loss: 0.4702 - acc: 0.7709\n",
      "Epoch 49/100\n",
      "537/537 [==============================] - 0s 119us/step - loss: 0.4677 - acc: 0.7784\n",
      "Epoch 50/100\n",
      "537/537 [==============================] - 0s 127us/step - loss: 0.4582 - acc: 0.7728\n",
      "Epoch 51/100\n",
      "537/537 [==============================] - 0s 112us/step - loss: 0.4750 - acc: 0.7672\n",
      "Epoch 52/100\n",
      "537/537 [==============================] - 0s 97us/step - loss: 0.4647 - acc: 0.7803\n",
      "Epoch 53/100\n",
      "537/537 [==============================] - 0s 95us/step - loss: 0.4730 - acc: 0.7709\n",
      "Epoch 54/100\n",
      "537/537 [==============================] - 0s 86us/step - loss: 0.4751 - acc: 0.7728\n",
      "Epoch 55/100\n",
      "537/537 [==============================] - 0s 117us/step - loss: 0.4624 - acc: 0.7709\n",
      "Epoch 56/100\n",
      "537/537 [==============================] - 0s 125us/step - loss: 0.4757 - acc: 0.7579\n",
      "Epoch 57/100\n",
      "537/537 [==============================] - 0s 121us/step - loss: 0.4648 - acc: 0.7709\n",
      "Epoch 58/100\n",
      "537/537 [==============================] - 0s 116us/step - loss: 0.4599 - acc: 0.7728\n",
      "Epoch 59/100\n",
      "537/537 [==============================] - 0s 93us/step - loss: 0.4587 - acc: 0.7914\n",
      "Epoch 60/100\n",
      "537/537 [==============================] - 0s 88us/step - loss: 0.4688 - acc: 0.7579\n",
      "Epoch 61/100\n",
      "537/537 [==============================] - 0s 84us/step - loss: 0.4622 - acc: 0.7765\n",
      "Epoch 62/100\n",
      "537/537 [==============================] - 0s 80us/step - loss: 0.4621 - acc: 0.7858\n",
      "Epoch 63/100\n",
      "537/537 [==============================] - 0s 78us/step - loss: 0.4725 - acc: 0.7672\n",
      "Epoch 64/100\n",
      "537/537 [==============================] - 0s 76us/step - loss: 0.4702 - acc: 0.7542\n",
      "Epoch 65/100\n",
      "537/537 [==============================] - 0s 82us/step - loss: 0.4662 - acc: 0.7803\n",
      "Epoch 66/100\n",
      "537/537 [==============================] - 0s 80us/step - loss: 0.4668 - acc: 0.7840\n",
      "Epoch 67/100\n",
      "537/537 [==============================] - 0s 78us/step - loss: 0.4648 - acc: 0.7821\n",
      "Epoch 68/100\n",
      "537/537 [==============================] - 0s 88us/step - loss: 0.4724 - acc: 0.7747\n",
      "Epoch 69/100\n",
      "537/537 [==============================] - 0s 84us/step - loss: 0.4615 - acc: 0.7709\n",
      "Epoch 70/100\n",
      "537/537 [==============================] - 0s 91us/step - loss: 0.4673 - acc: 0.7784\n",
      "Epoch 71/100\n",
      "537/537 [==============================] - 0s 110us/step - loss: 0.4652 - acc: 0.7933\n",
      "Epoch 72/100\n",
      "537/537 [==============================] - 0s 125us/step - loss: 0.4643 - acc: 0.7821\n",
      "Epoch 73/100\n",
      "537/537 [==============================] - 0s 123us/step - loss: 0.4693 - acc: 0.7616\n",
      "Epoch 74/100\n",
      "537/537 [==============================] - 0s 106us/step - loss: 0.4731 - acc: 0.7709\n",
      "Epoch 75/100\n",
      "537/537 [==============================] - 0s 86us/step - loss: 0.4772 - acc: 0.7579\n",
      "Epoch 76/100\n",
      "537/537 [==============================] - 0s 82us/step - loss: 0.4642 - acc: 0.7709\n",
      "Epoch 77/100\n",
      "537/537 [==============================] - 0s 80us/step - loss: 0.4682 - acc: 0.7765\n",
      "Epoch 78/100\n",
      "537/537 [==============================] - 0s 80us/step - loss: 0.4631 - acc: 0.7803\n",
      "Epoch 79/100\n",
      "537/537 [==============================] - 0s 78us/step - loss: 0.4654 - acc: 0.7784\n",
      "Epoch 80/100\n",
      "537/537 [==============================] - 0s 89us/step - loss: 0.4707 - acc: 0.7747\n",
      "Epoch 81/100\n",
      "537/537 [==============================] - 0s 82us/step - loss: 0.4720 - acc: 0.7803\n",
      "Epoch 82/100\n",
      "537/537 [==============================] - 0s 88us/step - loss: 0.4580 - acc: 0.7709\n",
      "Epoch 83/100\n",
      "537/537 [==============================] - 0s 88us/step - loss: 0.4623 - acc: 0.7803\n",
      "Epoch 84/100\n"
     ]
    },
    {
     "name": "stdout",
     "output_type": "stream",
     "text": [
      "537/537 [==============================] - 0s 112us/step - loss: 0.4675 - acc: 0.7728\n",
      "Epoch 85/100\n",
      "537/537 [==============================] - 0s 119us/step - loss: 0.4658 - acc: 0.7821\n",
      "Epoch 86/100\n",
      "537/537 [==============================] - 0s 104us/step - loss: 0.4640 - acc: 0.7635\n",
      "Epoch 87/100\n",
      "537/537 [==============================] - 0s 91us/step - loss: 0.4605 - acc: 0.7765\n",
      "Epoch 88/100\n",
      "537/537 [==============================] - 0s 80us/step - loss: 0.4584 - acc: 0.7821\n",
      "Epoch 89/100\n",
      "537/537 [==============================] - 0s 76us/step - loss: 0.4651 - acc: 0.7672\n",
      "Epoch 90/100\n",
      "537/537 [==============================] - 0s 88us/step - loss: 0.4599 - acc: 0.7821\n",
      "Epoch 91/100\n",
      "537/537 [==============================] - 0s 78us/step - loss: 0.4598 - acc: 0.7747\n",
      "Epoch 92/100\n",
      "537/537 [==============================] - 0s 80us/step - loss: 0.4757 - acc: 0.7635\n",
      "Epoch 93/100\n",
      "537/537 [==============================] - 0s 80us/step - loss: 0.4795 - acc: 0.7691\n",
      "Epoch 94/100\n",
      "537/537 [==============================] - 0s 80us/step - loss: 0.4562 - acc: 0.7784\n",
      "Epoch 95/100\n",
      "537/537 [==============================] - 0s 78us/step - loss: 0.4631 - acc: 0.7784\n",
      "Epoch 96/100\n",
      "537/537 [==============================] - 0s 84us/step - loss: 0.4616 - acc: 0.7709\n",
      "Epoch 97/100\n",
      "537/537 [==============================] - 0s 80us/step - loss: 0.4820 - acc: 0.7747\n",
      "Epoch 98/100\n",
      "537/537 [==============================] - 0s 82us/step - loss: 0.4567 - acc: 0.7784\n",
      "Epoch 99/100\n",
      "537/537 [==============================] - 0s 78us/step - loss: 0.4665 - acc: 0.7765\n",
      "Epoch 100/100\n",
      "537/537 [==============================] - 0s 78us/step - loss: 0.4571 - acc: 0.7784\n"
     ]
    }
   ],
   "source": [
    "#train the model\n",
    "\n",
    "model_diag = model.fit(x_train,y_train,batch_size=10,epochs=100,verbose=1)"
   ]
  },
  {
   "cell_type": "code",
   "execution_count": 39,
   "metadata": {},
   "outputs": [
    {
     "data": {
      "image/png": "[encoded data removed]",
      "text/plain": [
       "<matplotlib.figure.Figure at 0x2a99b3eaa58>"
      ]
     },
     "metadata": {},
     "output_type": "display_data"
    }
   ],
   "source": [
    "model_epoc_values = model_diag.history['acc']\n",
    "plt.plot(model_epoc_values)\n",
    "keys = model_diag.history.keys()\n",
    "plt.show()"
   ]
  },
  {
   "cell_type": "code",
   "execution_count": 48,
   "metadata": {},
   "outputs": [
    {
     "data": {
      "text/plain": [
       "dict_keys(['val_loss', 'val_mean_squared_error', 'loss', 'mean_squared_error'])"
      ]
     },
     "execution_count": 48,
     "metadata": {},
     "output_type": "execute_result"
    }
   ],
   "source": [
    "keys"
   ]
  },
  {
   "cell_type": "code",
   "execution_count": 40,
   "metadata": {},
   "outputs": [
    {
     "data": {
      "text/plain": [
       "array([[8.28281343e-02],\n",
       "       [4.17996496e-01],\n",
       "       [4.85603213e-02],\n",
       "       [5.75087965e-01],\n",
       "       [2.34935820e-01],\n",
       "       [7.80084729e-01],\n",
       "       [0.00000000e+00],\n",
       "       [2.47654378e-01],\n",
       "       [2.02287942e-01],\n",
       "       [5.49420118e-02],\n",
       "       [7.77013659e-01],\n",
       "       [4.49640781e-01],\n",
       "       [7.00809956e-01],\n",
       "       [1.32937253e-01],\n",
       "       [5.03651440e-01],\n",
       "       [4.00858521e-02],\n",
       "       [2.83489525e-01],\n",
       "       [6.96514070e-01],\n",
       "       [3.57739031e-01],\n",
       "       [7.70302773e-01],\n",
       "       [4.96847063e-01],\n",
       "       [3.53414595e-01],\n",
       "       [8.05948853e-01],\n",
       "       [5.26564956e-01],\n",
       "       [7.77096272e-01],\n",
       "       [2.73159742e-02],\n",
       "       [4.78854656e-01],\n",
       "       [1.48987770e-01],\n",
       "       [8.53481054e-01],\n",
       "       [9.24221456e-01],\n",
       "       [7.55921304e-02],\n",
       "       [1.97824329e-01],\n",
       "       [4.28734720e-02],\n",
       "       [3.89272064e-01],\n",
       "       [1.93431795e-01],\n",
       "       [5.07476628e-01],\n",
       "       [6.09001815e-01],\n",
       "       [2.58940160e-01],\n",
       "       [1.05285943e-01],\n",
       "       [3.38186473e-01],\n",
       "       [1.26971275e-01],\n",
       "       [3.49535644e-01],\n",
       "       [7.98292398e-01],\n",
       "       [4.29614782e-01],\n",
       "       [3.18567723e-01],\n",
       "       [9.75846112e-01],\n",
       "       [8.92905056e-01],\n",
       "       [1.60680711e-01],\n",
       "       [8.85021389e-01],\n",
       "       [2.77077794e-01],\n",
       "       [8.60114694e-02],\n",
       "       [1.88303798e-01],\n",
       "       [1.53685093e-01],\n",
       "       [1.74549222e-03],\n",
       "       [7.58186877e-01],\n",
       "       [3.60819399e-02],\n",
       "       [3.05836797e-01],\n",
       "       [6.84290290e-01],\n",
       "       [3.94722044e-01],\n",
       "       [7.59927511e-01],\n",
       "       [3.12623143e-01],\n",
       "       [2.35236287e-01],\n",
       "       [5.95449209e-01],\n",
       "       [3.38882923e-01],\n",
       "       [8.27634335e-02],\n",
       "       [6.04367316e-01],\n",
       "       [2.35477895e-01],\n",
       "       [2.39928186e-01],\n",
       "       [4.77244556e-02],\n",
       "       [8.58024299e-01],\n",
       "       [5.57225943e-01],\n",
       "       [7.98580885e-01],\n",
       "       [5.66687346e-01],\n",
       "       [2.08059698e-01],\n",
       "       [6.32957816e-02],\n",
       "       [9.10315156e-01],\n",
       "       [4.92414951e-01],\n",
       "       [4.01755929e-01],\n",
       "       [1.98683470e-01],\n",
       "       [3.04788411e-01],\n",
       "       [3.79444182e-01],\n",
       "       [1.95644230e-01],\n",
       "       [5.08100092e-02],\n",
       "       [5.09668887e-02],\n",
       "       [1.38143748e-01],\n",
       "       [2.03154504e-01],\n",
       "       [6.82124615e-01],\n",
       "       [8.15099359e-01],\n",
       "       [2.76047289e-01],\n",
       "       [5.17016649e-01],\n",
       "       [9.36627030e-01],\n",
       "       [2.56734490e-01],\n",
       "       [4.65303063e-02],\n",
       "       [6.08990490e-02],\n",
       "       [3.09647858e-01],\n",
       "       [6.06081307e-01],\n",
       "       [7.03154564e-01],\n",
       "       [9.99959767e-01],\n",
       "       [3.18861902e-01],\n",
       "       [0.00000000e+00],\n",
       "       [3.27344656e-01],\n",
       "       [4.46496964e-01],\n",
       "       [3.01475316e-01],\n",
       "       [7.41410732e-01],\n",
       "       [3.64071488e-01],\n",
       "       [2.06414461e-01],\n",
       "       [2.08616257e-07],\n",
       "       [6.57577574e-01],\n",
       "       [7.39910603e-01],\n",
       "       [5.51208794e-01],\n",
       "       [7.20024109e-05],\n",
       "       [0.00000000e+00],\n",
       "       [3.44787419e-01],\n",
       "       [8.71657133e-01],\n",
       "       [2.09646851e-01],\n",
       "       [4.30552185e-01],\n",
       "       [5.83870232e-01],\n",
       "       [8.77729774e-01],\n",
       "       [3.57596338e-01],\n",
       "       [2.64453828e-01],\n",
       "       [1.17673099e-01],\n",
       "       [2.83304334e-01],\n",
       "       [4.37898040e-01],\n",
       "       [1.16443515e-01],\n",
       "       [4.81757522e-02],\n",
       "       [1.19209290e-07],\n",
       "       [9.11530495e-01],\n",
       "       [4.28684592e-01],\n",
       "       [1.76891685e-03],\n",
       "       [7.95034647e-01],\n",
       "       [5.17914712e-01],\n",
       "       [8.38921607e-01],\n",
       "       [1.07918262e-01],\n",
       "       [1.01613104e-02],\n",
       "       [2.50697136e-04],\n",
       "       [3.45077991e-01],\n",
       "       [2.51711220e-01],\n",
       "       [2.38418579e-07],\n",
       "       [3.42155278e-01],\n",
       "       [4.73328054e-01],\n",
       "       [9.01400745e-01],\n",
       "       [2.21198767e-01],\n",
       "       [5.36829412e-01],\n",
       "       [8.90082002e-01],\n",
       "       [7.38740742e-01],\n",
       "       [2.65790582e-01],\n",
       "       [9.58744287e-01],\n",
       "       [8.78460884e-01],\n",
       "       [3.20915163e-01],\n",
       "       [3.02031398e-01],\n",
       "       [1.08517796e-01],\n",
       "       [2.79347122e-01],\n",
       "       [9.65708435e-01],\n",
       "       [5.55067718e-01],\n",
       "       [1.43710345e-01],\n",
       "       [1.92234516e-01],\n",
       "       [5.73861837e-01],\n",
       "       [4.62427884e-01],\n",
       "       [2.81583369e-01],\n",
       "       [2.53712654e-01],\n",
       "       [1.31449461e-01],\n",
       "       [4.29075509e-01],\n",
       "       [5.01451969e-01],\n",
       "       [8.67914438e-01],\n",
       "       [3.22768509e-01],\n",
       "       [8.36882591e-01],\n",
       "       [3.65030080e-01],\n",
       "       [1.19504809e-01],\n",
       "       [1.81842566e-01],\n",
       "       [3.01146209e-02],\n",
       "       [8.84180307e-01],\n",
       "       [9.41568017e-02],\n",
       "       [4.46279645e-02],\n",
       "       [2.33545363e-01],\n",
       "       [0.00000000e+00],\n",
       "       [1.28259093e-01],\n",
       "       [2.11040467e-01],\n",
       "       [8.24812293e-01],\n",
       "       [1.82935685e-01],\n",
       "       [2.55351067e-02],\n",
       "       [5.59518456e-01],\n",
       "       [3.01388443e-01],\n",
       "       [3.85915935e-01],\n",
       "       [1.77579254e-01],\n",
       "       [7.87661910e-01],\n",
       "       [7.56350458e-02],\n",
       "       [1.13172561e-01],\n",
       "       [4.28580999e-01],\n",
       "       [4.16538447e-01],\n",
       "       [4.93361384e-01],\n",
       "       [5.44005036e-02],\n",
       "       [2.53482491e-01],\n",
       "       [8.26016545e-01],\n",
       "       [4.48488772e-01],\n",
       "       [6.88219249e-01],\n",
       "       [7.93787956e-01],\n",
       "       [1.81858182e-01],\n",
       "       [2.04065353e-01],\n",
       "       [6.97455287e-01],\n",
       "       [6.03976786e-01],\n",
       "       [4.84898031e-01],\n",
       "       [7.12065101e-01],\n",
       "       [7.98595548e-01],\n",
       "       [5.43326139e-04],\n",
       "       [8.10692012e-01],\n",
       "       [6.25932932e-01],\n",
       "       [5.29377341e-01],\n",
       "       [4.01375115e-01],\n",
       "       [1.05505139e-01],\n",
       "       [1.10215783e-01],\n",
       "       [7.96284437e-01],\n",
       "       [1.50268137e-01],\n",
       "       [8.18789661e-01],\n",
       "       [1.04305118e-01],\n",
       "       [4.58742589e-01],\n",
       "       [1.01325750e-01],\n",
       "       [5.42257428e-02],\n",
       "       [9.98740673e-01],\n",
       "       [3.46893609e-01],\n",
       "       [1.69608921e-01],\n",
       "       [1.84122592e-01],\n",
       "       [2.57306457e-01],\n",
       "       [3.39097053e-01],\n",
       "       [1.36198252e-01],\n",
       "       [1.83474943e-01],\n",
       "       [8.87560844e-01],\n",
       "       [1.73174962e-01],\n",
       "       [9.66395676e-01],\n",
       "       [2.37808108e-01],\n",
       "       [5.10420263e-01],\n",
       "       [3.18867732e-09]], dtype=float32)"
      ]
     },
     "execution_count": 40,
     "metadata": {},
     "output_type": "execute_result"
    }
   ],
   "source": [
    "#make predictions\n",
    "\n",
    "model.predict(x_test,batch_size=32)"
   ]
  },
  {
   "cell_type": "code",
   "execution_count": 43,
   "metadata": {
    "collapsed": true
   },
   "outputs": [],
   "source": [
    "def fn_differences(actual,predicted):\n",
    "    error = actual - predicted\n",
    "    abs_error = abs(error)\n",
    "    percent_error =error/actual\n",
    "    \n",
    "    mean_abs_error = np.mean(abs_error)\n",
    "    mean_abs_percent_error = np.mean(percent_error)\n",
    "    \n",
    "    return mean_abs_percent_error"
   ]
  },
  {
   "cell_type": "code",
   "execution_count": 44,
   "metadata": {
    "collapsed": true
   },
   "outputs": [],
   "source": [
    "#Check the model performance\n",
    "predict_y_train = model.predict(x_train)"
   ]
  },
  {
   "cell_type": "code",
   "execution_count": 47,
   "metadata": {
    "collapsed": true
   },
   "outputs": [],
   "source": [
    "from keras.wrappers.scikit_learn import KerasRegressor"
   ]
  },
  {
   "cell_type": "code",
   "execution_count": 63,
   "metadata": {
    "collapsed": true
   },
   "outputs": [],
   "source": [
    "def fn_def_model():\n",
    "    no_of_hidden_layers = 1\n",
    "    model1 = Sequential()\n",
    "    model1.add(Dense(4,activation='relu',input_dim=1)) #Input layer\n",
    "    for i in range(no_of_hidden_layers):\n",
    "        model1.add(Dense(6,activation='relu')) #Hidden layer\n",
    "    model1.add(Dense(1,activation='linear',input_dim=1)) #Linear Regression Output layer\n",
    "    #compile the model\n",
    "    model1.compile(loss='mse',optimizer='RMSProp',metrics=['mse'])\n",
    "    return model1"
   ]
  },
  {
   "cell_type": "code",
   "execution_count": null,
   "metadata": {
    "collapsed": true
   },
   "outputs": [],
   "source": [
    "estimator = KerasRegressor(build_fn=fn_def_model,epochs=200,)"
   ]
  },
  {
   "cell_type": "code",
   "execution_count": 64,
   "metadata": {
    "collapsed": true
   },
   "outputs": [],
   "source": [
    "from sklearn.model_selection import cross_val_score"
   ]
  },
  {
   "cell_type": "code",
   "execution_count": 65,
   "metadata": {
    "collapsed": true
   },
   "outputs": [],
   "source": [
    "from sklearn.model_selection import KFold"
   ]
  },
  {
   "cell_type": "code",
   "execution_count": null,
   "metadata": {
    "collapsed": true
   },
   "outputs": [],
   "source": [
    "kfolds = KFold(n_splits=10,random_state=999)\n",
    "Results = cross_val_score(estimator,x_train,y_train,cv=kfolds)\n",
    "Results.mean()\n",
    "Results.std()"
   ]
  }
 ],
 "metadata": {
  "kernelspec": {
   "display_name": "Python 3",
   "language": "python",
   "name": "python3"
  },
  "language_info": {
   "codemirror_mode": {
    "name": "ipython",
    "version": 3
   },
   "file_extension": ".py",
   "mimetype": "text/x-python",
   "name": "python",
   "nbconvert_exporter": "python",
   "pygments_lexer": "ipython3",
   "version": "3.6.2"
  }
 },
 "nbformat": 4,
 "nbformat_minor": 2
}
